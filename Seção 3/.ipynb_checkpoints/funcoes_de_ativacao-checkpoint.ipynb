{
 "cells": [
  {
   "cell_type": "code",
   "execution_count": 1,
   "id": "47c964bd-3901-4a9e-9cd0-9a77ae4cfd63",
   "metadata": {},
   "outputs": [],
   "source": [
    "import numpy as np"
   ]
  },
  {
   "cell_type": "markdown",
   "id": "edc7de88-02f3-4c9c-b0fd-f7c63f4b5e4b",
   "metadata": {},
   "source": [
    "## **Função Step**"
   ]
  },
  {
   "cell_type": "markdown",
   "id": "d9801049-2f35-4789-99cb-7244e5e37889",
   "metadata": {},
   "source": [
    "Se o valor for maior que 1 retorna 1 caso contrario retorna 0"
   ]
  },
  {
   "cell_type": "code",
   "execution_count": 3,
   "id": "f3500b3a-ec3c-4951-87d7-424014910ee6",
   "metadata": {},
   "outputs": [],
   "source": [
    "def step_function(soma):\n",
    "    if soma >= 1:\n",
    "        return 1\n",
    "    return 0"
   ]
  },
  {
   "cell_type": "code",
   "execution_count": 5,
   "id": "4cf656ad-4327-4898-bf42-4c8164958dd0",
   "metadata": {},
   "outputs": [
    {
     "data": {
      "text/plain": [
       "0"
      ]
     },
     "execution_count": 5,
     "metadata": {},
     "output_type": "execute_result"
    }
   ],
   "source": [
    "step_function(-10)"
   ]
  },
  {
   "cell_type": "code",
   "execution_count": 7,
   "id": "f93bafab-7f39-4545-b8d1-9ed492ff0b9b",
   "metadata": {},
   "outputs": [
    {
     "data": {
      "text/plain": [
       "1"
      ]
     },
     "execution_count": 7,
     "metadata": {},
     "output_type": "execute_result"
    }
   ],
   "source": [
    "step_function(10)"
   ]
  },
  {
   "cell_type": "code",
   "execution_count": 11,
   "id": "0aa0b377-06d3-486b-9f26-bd5eac969c81",
   "metadata": {},
   "outputs": [
    {
     "data": {
      "text/plain": [
       "1"
      ]
     },
     "execution_count": 11,
     "metadata": {},
     "output_type": "execute_result"
    }
   ],
   "source": [
    "step_function(1)"
   ]
  },
  {
   "cell_type": "markdown",
   "id": "f953dd19-6f85-489b-a02d-ce4fb7a5ac9e",
   "metadata": {},
   "source": [
    "## **Sigmoid**"
   ]
  },
  {
   "cell_type": "markdown",
   "id": "46f83d33-8225-4e17-9e4b-2f706d2eafbd",
   "metadata": {},
   "source": [
    "Retorna probabilidades porem para problemas de somente **2 classes**"
   ]
  },
  {
   "cell_type": "code",
   "execution_count": 25,
   "id": "fafbbaec-4850-4ba2-acd8-2afb1b03d0b9",
   "metadata": {},
   "outputs": [],
   "source": [
    "def sigmoid_funtion(soma):\n",
    "    return 1 / (1 + np.exp(-soma))"
   ]
  },
  {
   "cell_type": "code",
   "execution_count": 27,
   "id": "d6c51a34-9fcf-41ef-aa79-2e624410ab07",
   "metadata": {},
   "outputs": [
    {
     "data": {
      "text/plain": [
       "4.5397868702434395e-05"
      ]
     },
     "execution_count": 27,
     "metadata": {},
     "output_type": "execute_result"
    }
   ],
   "source": [
    "sigmoid_funtion(-10)"
   ]
  },
  {
   "cell_type": "code",
   "execution_count": 29,
   "id": "4db951e4-36d9-4853-a861-92e725ed5ff9",
   "metadata": {},
   "outputs": [
    {
     "data": {
      "text/plain": [
       "0.9999546021312976"
      ]
     },
     "execution_count": 29,
     "metadata": {},
     "output_type": "execute_result"
    }
   ],
   "source": [
    "sigmoid_funtion(10)"
   ]
  },
  {
   "cell_type": "code",
   "execution_count": 95,
   "id": "5b2063e0-9856-42d8-a514-26c4e61335b3",
   "metadata": {},
   "outputs": [
    {
     "data": {
      "text/plain": [
       "0.7310585786300049"
      ]
     },
     "execution_count": 95,
     "metadata": {},
     "output_type": "execute_result"
    }
   ],
   "source": [
    "sigmoid_funtion(1)"
   ]
  },
  {
   "cell_type": "code",
   "execution_count": 97,
   "id": "a602adfc-0f0f-45ea-8739-8492b156daf1",
   "metadata": {},
   "outputs": [
    {
     "data": {
      "text/plain": [
       "0.8909031788043871"
      ]
     },
     "execution_count": 97,
     "metadata": {},
     "output_type": "execute_result"
    }
   ],
   "source": [
    "sigmoid_funtion(2.1)"
   ]
  },
  {
   "cell_type": "markdown",
   "id": "dc8a1e27-58f6-4c63-a346-8e75331f18e9",
   "metadata": {},
   "source": [
    "## **Hyperbolic**"
   ]
  },
  {
   "cell_type": "markdown",
   "id": "7a2056ba-193d-451c-a3ea-845603bfccc4",
   "metadata": {},
   "source": [
    "Função que retorna valores entre -1 e 1"
   ]
  },
  {
   "cell_type": "markdown",
   "id": "76d83a12-53ad-442b-89d4-9cbd626e9405",
   "metadata": {},
   "source": [
    "Muito utilizado em problemas complexos de visão computacional "
   ]
  },
  {
   "cell_type": "code",
   "execution_count": 41,
   "id": "bb340c18-4ef8-4e37-9afc-0f18824b7691",
   "metadata": {},
   "outputs": [],
   "source": [
    "def tahn_function(soma):\n",
    "    return (np.exp(soma) - np.exp(-soma)) / (np.exp(soma) + np.exp(-soma))"
   ]
  },
  {
   "cell_type": "code",
   "execution_count": 43,
   "id": "e5d9e9c5-6a62-45db-9703-1faec49a7cc1",
   "metadata": {},
   "outputs": [
    {
     "data": {
      "text/plain": [
       "-0.9999999958776926"
      ]
     },
     "execution_count": 43,
     "metadata": {},
     "output_type": "execute_result"
    }
   ],
   "source": [
    "tahn_function(-10)"
   ]
  },
  {
   "cell_type": "code",
   "execution_count": 45,
   "id": "1debe9f7-762b-4470-8588-b96805c59656",
   "metadata": {},
   "outputs": [
    {
     "data": {
      "text/plain": [
       "0.9999999958776926"
      ]
     },
     "execution_count": 45,
     "metadata": {},
     "output_type": "execute_result"
    }
   ],
   "source": [
    "tahn_function(10)"
   ]
  },
  {
   "cell_type": "code",
   "execution_count": 47,
   "id": "7e3f51cf-90fc-4e27-95a4-6160324a5651",
   "metadata": {},
   "outputs": [
    {
     "data": {
      "text/plain": [
       "0.7615941559557649"
      ]
     },
     "execution_count": 47,
     "metadata": {},
     "output_type": "execute_result"
    }
   ],
   "source": [
    "tahn_function(1)"
   ]
  },
  {
   "cell_type": "code",
   "execution_count": 99,
   "id": "241f1bfb-b06c-4830-b4c9-e53f91cacbd7",
   "metadata": {},
   "outputs": [
    {
     "data": {
      "text/plain": [
       "0.9704519366134541"
      ]
     },
     "execution_count": 99,
     "metadata": {},
     "output_type": "execute_result"
    }
   ],
   "source": [
    "tahn_function(2.1)"
   ]
  },
  {
   "cell_type": "markdown",
   "id": "41e9670b-abc6-47c2-95c4-c95f6bc8f935",
   "metadata": {},
   "source": [
    "# **ReLu**"
   ]
  },
  {
   "cell_type": "markdown",
   "id": "6d929f8d-1697-43a1-a637-a9ca7b8ee62d",
   "metadata": {},
   "source": [
    "Se o valor for 0 ou menor o valor retornado é 0 caso contrario será X ou o próprio valor"
   ]
  },
  {
   "cell_type": "markdown",
   "id": "a3624ca2-7508-4142-87d1-2176ea326290",
   "metadata": {},
   "source": [
    "Muito utilizado em problemas complexos de DeepLearning"
   ]
  },
  {
   "cell_type": "code",
   "execution_count": 56,
   "id": "a35cca16-19b3-4321-bf3d-0dc02fc80edf",
   "metadata": {},
   "outputs": [],
   "source": [
    "def relu_function(soma):\n",
    "    if soma >= 0:\n",
    "        return soma\n",
    "    return 0"
   ]
  },
  {
   "cell_type": "code",
   "execution_count": 58,
   "id": "9dadd1dd-3f41-458a-abf3-b1df888e2763",
   "metadata": {},
   "outputs": [
    {
     "data": {
      "text/plain": [
       "0"
      ]
     },
     "execution_count": 58,
     "metadata": {},
     "output_type": "execute_result"
    }
   ],
   "source": [
    "relu_function(-20)"
   ]
  },
  {
   "cell_type": "code",
   "execution_count": 60,
   "id": "da733b7a-e6de-4170-a852-f26c2029d262",
   "metadata": {},
   "outputs": [
    {
     "data": {
      "text/plain": [
       "0"
      ]
     },
     "execution_count": 60,
     "metadata": {},
     "output_type": "execute_result"
    }
   ],
   "source": [
    "relu_function(0)"
   ]
  },
  {
   "cell_type": "code",
   "execution_count": 62,
   "id": "ac3df40b-7950-4a9f-9ffb-0923ee1e533d",
   "metadata": {},
   "outputs": [
    {
     "data": {
      "text/plain": [
       "10"
      ]
     },
     "execution_count": 62,
     "metadata": {},
     "output_type": "execute_result"
    }
   ],
   "source": [
    "relu_function(10)"
   ]
  },
  {
   "cell_type": "code",
   "execution_count": 64,
   "id": "a7015bd8-f231-4635-9604-ff80214a2690",
   "metadata": {},
   "outputs": [
    {
     "data": {
      "text/plain": [
       "100"
      ]
     },
     "execution_count": 64,
     "metadata": {},
     "output_type": "execute_result"
    }
   ],
   "source": [
    "relu_function(100)"
   ]
  },
  {
   "cell_type": "code",
   "execution_count": 101,
   "id": "06b14505-cd0d-431e-ba9b-60a65838ff3f",
   "metadata": {},
   "outputs": [
    {
     "data": {
      "text/plain": [
       "2.1"
      ]
     },
     "execution_count": 101,
     "metadata": {},
     "output_type": "execute_result"
    }
   ],
   "source": [
    "relu_function(2.1)"
   ]
  },
  {
   "cell_type": "markdown",
   "id": "7149c418-50a0-407f-b8f6-bd1dbe28e2e7",
   "metadata": {},
   "source": [
    "## **Softmax**"
   ]
  },
  {
   "cell_type": "markdown",
   "id": "2a4de5bd-3fa5-4a41-bde9-ff55d1a9336f",
   "metadata": {},
   "source": [
    "Retorna probabilidades para problemas de **mais de 2 classes**"
   ]
  },
  {
   "cell_type": "code",
   "execution_count": 70,
   "id": "144fba6c-0cb8-47d7-afe7-14f0ce8f40ce",
   "metadata": {},
   "outputs": [],
   "source": [
    "def softmax_function(x):\n",
    "    ex = np.exp(x)\n",
    "    return ex / ex.sum()"
   ]
  },
  {
   "cell_type": "code",
   "execution_count": 72,
   "id": "98c92e54-aa0d-4ea8-91a2-f650a473da0a",
   "metadata": {},
   "outputs": [
    {
     "data": {
      "text/plain": [
       "array([0.99001676, 0.00667068, 0.00331256])"
      ]
     },
     "execution_count": 72,
     "metadata": {},
     "output_type": "execute_result"
    }
   ],
   "source": [
    "softmax_function([7.0, 2.0, 1.3])"
   ]
  },
  {
   "cell_type": "markdown",
   "id": "5e73f0f5-204c-4578-8240-f6cce3ff86d3",
   "metadata": {},
   "source": [
    "Retornou a probabilidade de cada um desses valores"
   ]
  },
  {
   "cell_type": "code",
   "execution_count": 77,
   "id": "de378b63-67ae-4f6c-8092-f912f7bfb909",
   "metadata": {},
   "outputs": [
    {
     "data": {
      "text/plain": [
       "array([0.03434934, 0.03434934, 0.93130132])"
      ]
     },
     "execution_count": 77,
     "metadata": {},
     "output_type": "execute_result"
    }
   ],
   "source": [
    "softmax_function([2.0, 2.0, 5.3])"
   ]
  },
  {
   "cell_type": "markdown",
   "id": "b6ded6ed-2022-4982-91af-3cfc8f7542ce",
   "metadata": {},
   "source": [
    "## **Linear**"
   ]
  },
  {
   "cell_type": "markdown",
   "id": "cd7f3e1e-d341-41cb-b086-e5824560cb22",
   "metadata": {},
   "source": [
    "Pode retirnar qualquer valor"
   ]
  },
  {
   "cell_type": "markdown",
   "id": "bf7319b7-a809-42b6-8a98-80b916b6a87a",
   "metadata": {},
   "source": [
    "Utilizado em problemas de regressão. Prever números. "
   ]
  },
  {
   "cell_type": "code",
   "execution_count": 87,
   "id": "79a41bf9-e998-4305-aab9-9a24a26021f2",
   "metadata": {},
   "outputs": [],
   "source": [
    "def linear_function(soma):\n",
    "    return soma"
   ]
  },
  {
   "cell_type": "code",
   "execution_count": 89,
   "id": "7809d853-6258-4739-8de7-b8695b655194",
   "metadata": {},
   "outputs": [
    {
     "data": {
      "text/plain": [
       "-10"
      ]
     },
     "execution_count": 89,
     "metadata": {},
     "output_type": "execute_result"
    }
   ],
   "source": [
    "linear_function(-10)"
   ]
  },
  {
   "cell_type": "code",
   "execution_count": 91,
   "id": "d7408f22-0ce6-44d5-b2f7-0a833f326334",
   "metadata": {},
   "outputs": [
    {
     "data": {
      "text/plain": [
       "1"
      ]
     },
     "execution_count": 91,
     "metadata": {},
     "output_type": "execute_result"
    }
   ],
   "source": [
    "linear_function(1)"
   ]
  },
  {
   "cell_type": "code",
   "execution_count": 93,
   "id": "a67e65ed-b112-4b13-aaf8-6f35a7bcfcc9",
   "metadata": {},
   "outputs": [
    {
     "data": {
      "text/plain": [
       "10"
      ]
     },
     "execution_count": 93,
     "metadata": {},
     "output_type": "execute_result"
    }
   ],
   "source": [
    "linear_function(10)"
   ]
  }
 ],
 "metadata": {
  "kernelspec": {
   "display_name": "Python 3 (ipykernel)",
   "language": "python",
   "name": "python3"
  },
  "language_info": {
   "codemirror_mode": {
    "name": "ipython",
    "version": 3
   },
   "file_extension": ".py",
   "mimetype": "text/x-python",
   "name": "python",
   "nbconvert_exporter": "python",
   "pygments_lexer": "ipython3",
   "version": "3.12.4"
  }
 },
 "nbformat": 4,
 "nbformat_minor": 5
}
