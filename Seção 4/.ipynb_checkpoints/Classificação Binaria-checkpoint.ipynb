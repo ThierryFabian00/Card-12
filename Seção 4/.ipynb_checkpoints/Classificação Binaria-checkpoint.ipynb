{
 "cells": [
  {
   "cell_type": "markdown",
   "id": "710f6991-4e7a-44ac-8b52-4ec2de60b777",
   "metadata": {},
   "source": [
    "# Classificação binaria"
   ]
  },
  {
   "cell_type": "markdown",
   "id": "657c592b-cb75-4c74-a00c-84428e214c3f",
   "metadata": {},
   "source": [
    "Quando a 2 classes para fazer a previsão"
   ]
  },
  {
   "cell_type": "code",
   "execution_count": 7,
   "id": "479445e4-6ca3-460c-88d8-ea0290fd700a",
   "metadata": {},
   "outputs": [],
   "source": [
    "import pandas as pd"
   ]
  },
  {
   "cell_type": "code",
   "execution_count": 21,
   "id": "e0488100-d3a8-4f89-871a-c437ddd62082",
   "metadata": {},
   "outputs": [
    {
     "data": {
      "text/plain": [
       "'2.2.2'"
      ]
     },
     "execution_count": 21,
     "metadata": {},
     "output_type": "execute_result"
    }
   ],
   "source": [
    "pd.__version__"
   ]
  },
  {
   "cell_type": "markdown",
   "id": "c89466d6-3913-46f9-aa21-5d7e43f45ecc",
   "metadata": {},
   "source": [
    "Atributos previsores:"
   ]
  },
  {
   "cell_type": "markdown",
   "id": "762dc079-6bff-402d-a8c1-8e225a04094f",
   "metadata": {},
   "source": [
    "Usar caminho absoluto do arquivo e colocar o r'Caminho do arquivo' para não dar problema com a '\\'"
   ]
  },
  {
   "cell_type": "code",
   "execution_count": 33,
   "id": "019d459b-d54a-42ee-81be-a7129a6412ef",
   "metadata": {},
   "outputs": [
    {
     "data": {
      "text/html": [
       "<div>\n",
       "<style scoped>\n",
       "    .dataframe tbody tr th:only-of-type {\n",
       "        vertical-align: middle;\n",
       "    }\n",
       "\n",
       "    .dataframe tbody tr th {\n",
       "        vertical-align: top;\n",
       "    }\n",
       "\n",
       "    .dataframe thead th {\n",
       "        text-align: right;\n",
       "    }\n",
       "</style>\n",
       "<table border=\"1\" class=\"dataframe\">\n",
       "  <thead>\n",
       "    <tr style=\"text-align: right;\">\n",
       "      <th></th>\n",
       "      <th>radius_mean</th>\n",
       "      <th>texture_mean</th>\n",
       "      <th>perimeter_mean</th>\n",
       "      <th>area_mean</th>\n",
       "      <th>smoothness_mean</th>\n",
       "      <th>compactness_mean</th>\n",
       "      <th>concavity_mean</th>\n",
       "      <th>concave_points_mean</th>\n",
       "      <th>symmetry_mean</th>\n",
       "      <th>fractal_dimension_mean</th>\n",
       "      <th>...</th>\n",
       "      <th>radius_worst</th>\n",
       "      <th>texture_worst</th>\n",
       "      <th>perimeter_worst</th>\n",
       "      <th>area_worst</th>\n",
       "      <th>smoothness_worst</th>\n",
       "      <th>compactness_worst</th>\n",
       "      <th>concavity_worst</th>\n",
       "      <th>concave_points_worst</th>\n",
       "      <th>symmetry_worst</th>\n",
       "      <th>fractal_dimension_worst</th>\n",
       "    </tr>\n",
       "  </thead>\n",
       "  <tbody>\n",
       "    <tr>\n",
       "      <th>0</th>\n",
       "      <td>17.99</td>\n",
       "      <td>10.38</td>\n",
       "      <td>122.80</td>\n",
       "      <td>1001.0</td>\n",
       "      <td>0.11840</td>\n",
       "      <td>0.27760</td>\n",
       "      <td>0.30010</td>\n",
       "      <td>0.14710</td>\n",
       "      <td>0.2419</td>\n",
       "      <td>0.07871</td>\n",
       "      <td>...</td>\n",
       "      <td>25.38</td>\n",
       "      <td>17.33</td>\n",
       "      <td>184.60</td>\n",
       "      <td>2019.0</td>\n",
       "      <td>0.16220</td>\n",
       "      <td>0.66560</td>\n",
       "      <td>0.7119</td>\n",
       "      <td>0.2654</td>\n",
       "      <td>0.4601</td>\n",
       "      <td>0.11890</td>\n",
       "    </tr>\n",
       "    <tr>\n",
       "      <th>1</th>\n",
       "      <td>20.57</td>\n",
       "      <td>17.77</td>\n",
       "      <td>132.90</td>\n",
       "      <td>1326.0</td>\n",
       "      <td>0.08474</td>\n",
       "      <td>0.07864</td>\n",
       "      <td>0.08690</td>\n",
       "      <td>0.07017</td>\n",
       "      <td>0.1812</td>\n",
       "      <td>0.05667</td>\n",
       "      <td>...</td>\n",
       "      <td>24.99</td>\n",
       "      <td>23.41</td>\n",
       "      <td>158.80</td>\n",
       "      <td>1956.0</td>\n",
       "      <td>0.12380</td>\n",
       "      <td>0.18660</td>\n",
       "      <td>0.2416</td>\n",
       "      <td>186.0000</td>\n",
       "      <td>275.0000</td>\n",
       "      <td>0.08902</td>\n",
       "    </tr>\n",
       "    <tr>\n",
       "      <th>2</th>\n",
       "      <td>19.69</td>\n",
       "      <td>21.25</td>\n",
       "      <td>130.00</td>\n",
       "      <td>1203.0</td>\n",
       "      <td>0.10960</td>\n",
       "      <td>0.15990</td>\n",
       "      <td>0.19740</td>\n",
       "      <td>0.12790</td>\n",
       "      <td>0.2069</td>\n",
       "      <td>0.05999</td>\n",
       "      <td>...</td>\n",
       "      <td>23.57</td>\n",
       "      <td>25.53</td>\n",
       "      <td>152.50</td>\n",
       "      <td>1709.0</td>\n",
       "      <td>0.14440</td>\n",
       "      <td>0.42450</td>\n",
       "      <td>0.4504</td>\n",
       "      <td>243.0000</td>\n",
       "      <td>0.3613</td>\n",
       "      <td>0.08758</td>\n",
       "    </tr>\n",
       "    <tr>\n",
       "      <th>3</th>\n",
       "      <td>11.42</td>\n",
       "      <td>20.38</td>\n",
       "      <td>77.58</td>\n",
       "      <td>386.1</td>\n",
       "      <td>0.14250</td>\n",
       "      <td>0.28390</td>\n",
       "      <td>0.24140</td>\n",
       "      <td>0.10520</td>\n",
       "      <td>0.2597</td>\n",
       "      <td>0.09744</td>\n",
       "      <td>...</td>\n",
       "      <td>14.91</td>\n",
       "      <td>26.50</td>\n",
       "      <td>98.87</td>\n",
       "      <td>567.7</td>\n",
       "      <td>0.20980</td>\n",
       "      <td>0.86630</td>\n",
       "      <td>0.6869</td>\n",
       "      <td>0.2575</td>\n",
       "      <td>0.6638</td>\n",
       "      <td>173.00000</td>\n",
       "    </tr>\n",
       "    <tr>\n",
       "      <th>4</th>\n",
       "      <td>20.29</td>\n",
       "      <td>14.34</td>\n",
       "      <td>135.10</td>\n",
       "      <td>1297.0</td>\n",
       "      <td>0.10030</td>\n",
       "      <td>0.13280</td>\n",
       "      <td>198.00000</td>\n",
       "      <td>0.10430</td>\n",
       "      <td>0.1809</td>\n",
       "      <td>0.05883</td>\n",
       "      <td>...</td>\n",
       "      <td>22.54</td>\n",
       "      <td>16.67</td>\n",
       "      <td>152.20</td>\n",
       "      <td>1575.0</td>\n",
       "      <td>0.13740</td>\n",
       "      <td>205.00000</td>\n",
       "      <td>0.4000</td>\n",
       "      <td>0.1625</td>\n",
       "      <td>0.2364</td>\n",
       "      <td>0.07678</td>\n",
       "    </tr>\n",
       "    <tr>\n",
       "      <th>...</th>\n",
       "      <td>...</td>\n",
       "      <td>...</td>\n",
       "      <td>...</td>\n",
       "      <td>...</td>\n",
       "      <td>...</td>\n",
       "      <td>...</td>\n",
       "      <td>...</td>\n",
       "      <td>...</td>\n",
       "      <td>...</td>\n",
       "      <td>...</td>\n",
       "      <td>...</td>\n",
       "      <td>...</td>\n",
       "      <td>...</td>\n",
       "      <td>...</td>\n",
       "      <td>...</td>\n",
       "      <td>...</td>\n",
       "      <td>...</td>\n",
       "      <td>...</td>\n",
       "      <td>...</td>\n",
       "      <td>...</td>\n",
       "      <td>...</td>\n",
       "    </tr>\n",
       "    <tr>\n",
       "      <th>564</th>\n",
       "      <td>21.56</td>\n",
       "      <td>22.39</td>\n",
       "      <td>142.00</td>\n",
       "      <td>1479.0</td>\n",
       "      <td>111.00000</td>\n",
       "      <td>0.11590</td>\n",
       "      <td>0.24390</td>\n",
       "      <td>0.13890</td>\n",
       "      <td>0.1726</td>\n",
       "      <td>0.05623</td>\n",
       "      <td>...</td>\n",
       "      <td>25.45</td>\n",
       "      <td>26.40</td>\n",
       "      <td>166.10</td>\n",
       "      <td>2027.0</td>\n",
       "      <td>141.00000</td>\n",
       "      <td>0.21130</td>\n",
       "      <td>0.4107</td>\n",
       "      <td>0.2216</td>\n",
       "      <td>206.0000</td>\n",
       "      <td>0.07115</td>\n",
       "    </tr>\n",
       "    <tr>\n",
       "      <th>565</th>\n",
       "      <td>20.13</td>\n",
       "      <td>28.25</td>\n",
       "      <td>131.20</td>\n",
       "      <td>1261.0</td>\n",
       "      <td>0.09780</td>\n",
       "      <td>0.10340</td>\n",
       "      <td>144.00000</td>\n",
       "      <td>0.09791</td>\n",
       "      <td>0.1752</td>\n",
       "      <td>0.05533</td>\n",
       "      <td>...</td>\n",
       "      <td>23.69</td>\n",
       "      <td>38.25</td>\n",
       "      <td>155.00</td>\n",
       "      <td>1731.0</td>\n",
       "      <td>0.11660</td>\n",
       "      <td>0.19220</td>\n",
       "      <td>0.3215</td>\n",
       "      <td>0.1628</td>\n",
       "      <td>0.2572</td>\n",
       "      <td>0.06637</td>\n",
       "    </tr>\n",
       "    <tr>\n",
       "      <th>566</th>\n",
       "      <td>16.60</td>\n",
       "      <td>28.08</td>\n",
       "      <td>108.30</td>\n",
       "      <td>858.1</td>\n",
       "      <td>0.08455</td>\n",
       "      <td>0.10230</td>\n",
       "      <td>0.09251</td>\n",
       "      <td>0.05302</td>\n",
       "      <td>159.0000</td>\n",
       "      <td>0.05648</td>\n",
       "      <td>...</td>\n",
       "      <td>18.98</td>\n",
       "      <td>34.12</td>\n",
       "      <td>126.70</td>\n",
       "      <td>1124.0</td>\n",
       "      <td>0.11390</td>\n",
       "      <td>0.30940</td>\n",
       "      <td>0.3403</td>\n",
       "      <td>0.1418</td>\n",
       "      <td>0.2218</td>\n",
       "      <td>0.07820</td>\n",
       "    </tr>\n",
       "    <tr>\n",
       "      <th>567</th>\n",
       "      <td>20.60</td>\n",
       "      <td>29.33</td>\n",
       "      <td>140.10</td>\n",
       "      <td>1265.0</td>\n",
       "      <td>0.11780</td>\n",
       "      <td>277.00000</td>\n",
       "      <td>0.35140</td>\n",
       "      <td>152.00000</td>\n",
       "      <td>0.2397</td>\n",
       "      <td>0.07016</td>\n",
       "      <td>...</td>\n",
       "      <td>25.74</td>\n",
       "      <td>39.42</td>\n",
       "      <td>184.60</td>\n",
       "      <td>1821.0</td>\n",
       "      <td>165.00000</td>\n",
       "      <td>0.86810</td>\n",
       "      <td>0.9387</td>\n",
       "      <td>265.0000</td>\n",
       "      <td>0.4087</td>\n",
       "      <td>124.00000</td>\n",
       "    </tr>\n",
       "    <tr>\n",
       "      <th>568</th>\n",
       "      <td>7.76</td>\n",
       "      <td>24.54</td>\n",
       "      <td>47.92</td>\n",
       "      <td>181.0</td>\n",
       "      <td>0.05263</td>\n",
       "      <td>0.04362</td>\n",
       "      <td>0.00000</td>\n",
       "      <td>0.00000</td>\n",
       "      <td>0.1587</td>\n",
       "      <td>0.05884</td>\n",
       "      <td>...</td>\n",
       "      <td>9456.00</td>\n",
       "      <td>30.37</td>\n",
       "      <td>59.16</td>\n",
       "      <td>268.6</td>\n",
       "      <td>0.08996</td>\n",
       "      <td>0.06444</td>\n",
       "      <td>0.0000</td>\n",
       "      <td>0.0000</td>\n",
       "      <td>0.2871</td>\n",
       "      <td>0.07039</td>\n",
       "    </tr>\n",
       "  </tbody>\n",
       "</table>\n",
       "<p>569 rows × 30 columns</p>\n",
       "</div>"
      ],
      "text/plain": [
       "      radius_mean   texture_mean   perimeter_mean   area_mean  \\\n",
       "0           17.99          10.38           122.80      1001.0   \n",
       "1           20.57          17.77           132.90      1326.0   \n",
       "2           19.69          21.25           130.00      1203.0   \n",
       "3           11.42          20.38            77.58       386.1   \n",
       "4           20.29          14.34           135.10      1297.0   \n",
       "..            ...            ...              ...         ...   \n",
       "564         21.56          22.39           142.00      1479.0   \n",
       "565         20.13          28.25           131.20      1261.0   \n",
       "566         16.60          28.08           108.30       858.1   \n",
       "567         20.60          29.33           140.10      1265.0   \n",
       "568          7.76          24.54            47.92       181.0   \n",
       "\n",
       "      smoothness_mean   compactness_mean   concavity_mean  \\\n",
       "0             0.11840            0.27760          0.30010   \n",
       "1             0.08474            0.07864          0.08690   \n",
       "2             0.10960            0.15990          0.19740   \n",
       "3             0.14250            0.28390          0.24140   \n",
       "4             0.10030            0.13280        198.00000   \n",
       "..                ...                ...              ...   \n",
       "564         111.00000            0.11590          0.24390   \n",
       "565           0.09780            0.10340        144.00000   \n",
       "566           0.08455            0.10230          0.09251   \n",
       "567           0.11780          277.00000          0.35140   \n",
       "568           0.05263            0.04362          0.00000   \n",
       "\n",
       "     concave_points_mean   symmetry_mean   fractal_dimension_mean  ...  \\\n",
       "0                0.14710          0.2419                  0.07871  ...   \n",
       "1                0.07017          0.1812                  0.05667  ...   \n",
       "2                0.12790          0.2069                  0.05999  ...   \n",
       "3                0.10520          0.2597                  0.09744  ...   \n",
       "4                0.10430          0.1809                  0.05883  ...   \n",
       "..                   ...             ...                      ...  ...   \n",
       "564              0.13890          0.1726                  0.05623  ...   \n",
       "565              0.09791          0.1752                  0.05533  ...   \n",
       "566              0.05302        159.0000                  0.05648  ...   \n",
       "567            152.00000          0.2397                  0.07016  ...   \n",
       "568              0.00000          0.1587                  0.05884  ...   \n",
       "\n",
       "      radius_worst   texture_worst   perimeter_worst   area_worst  \\\n",
       "0            25.38           17.33            184.60       2019.0   \n",
       "1            24.99           23.41            158.80       1956.0   \n",
       "2            23.57           25.53            152.50       1709.0   \n",
       "3            14.91           26.50             98.87        567.7   \n",
       "4            22.54           16.67            152.20       1575.0   \n",
       "..             ...             ...               ...          ...   \n",
       "564          25.45           26.40            166.10       2027.0   \n",
       "565          23.69           38.25            155.00       1731.0   \n",
       "566          18.98           34.12            126.70       1124.0   \n",
       "567          25.74           39.42            184.60       1821.0   \n",
       "568        9456.00           30.37             59.16        268.6   \n",
       "\n",
       "      smoothness_worst   compactness_worst   concavity_worst  \\\n",
       "0              0.16220             0.66560            0.7119   \n",
       "1              0.12380             0.18660            0.2416   \n",
       "2              0.14440             0.42450            0.4504   \n",
       "3              0.20980             0.86630            0.6869   \n",
       "4              0.13740           205.00000            0.4000   \n",
       "..                 ...                 ...               ...   \n",
       "564          141.00000             0.21130            0.4107   \n",
       "565            0.11660             0.19220            0.3215   \n",
       "566            0.11390             0.30940            0.3403   \n",
       "567          165.00000             0.86810            0.9387   \n",
       "568            0.08996             0.06444            0.0000   \n",
       "\n",
       "      concave_points_worst   symmetry_worst   fractal_dimension_worst  \n",
       "0                   0.2654           0.4601                   0.11890  \n",
       "1                 186.0000         275.0000                   0.08902  \n",
       "2                 243.0000           0.3613                   0.08758  \n",
       "3                   0.2575           0.6638                 173.00000  \n",
       "4                   0.1625           0.2364                   0.07678  \n",
       "..                     ...              ...                       ...  \n",
       "564                 0.2216         206.0000                   0.07115  \n",
       "565                 0.1628           0.2572                   0.06637  \n",
       "566                 0.1418           0.2218                   0.07820  \n",
       "567               265.0000           0.4087                 124.00000  \n",
       "568                 0.0000           0.2871                   0.07039  \n",
       "\n",
       "[569 rows x 30 columns]"
      ]
     },
     "execution_count": 33,
     "metadata": {},
     "output_type": "execute_result"
    }
   ],
   "source": [
    "X = pd.read_csv(r'C:\\Users\\thier\\Jupyter\\Card-12\\Seção 4\\entradas_breast.csv')\n",
    "X"
   ]
  },
  {
   "cell_type": "markdown",
   "id": "c1cbf609-0c94-4778-8324-76770ed012c1",
   "metadata": {},
   "source": [
    "Carregar a classe:"
   ]
  },
  {
   "cell_type": "code",
   "execution_count": 43,
   "id": "29f15438-9851-4e79-b840-651b2f52e285",
   "metadata": {},
   "outputs": [
    {
     "data": {
      "text/html": [
       "<div>\n",
       "<style scoped>\n",
       "    .dataframe tbody tr th:only-of-type {\n",
       "        vertical-align: middle;\n",
       "    }\n",
       "\n",
       "    .dataframe tbody tr th {\n",
       "        vertical-align: top;\n",
       "    }\n",
       "\n",
       "    .dataframe thead th {\n",
       "        text-align: right;\n",
       "    }\n",
       "</style>\n",
       "<table border=\"1\" class=\"dataframe\">\n",
       "  <thead>\n",
       "    <tr style=\"text-align: right;\">\n",
       "      <th></th>\n",
       "      <th>0</th>\n",
       "    </tr>\n",
       "  </thead>\n",
       "  <tbody>\n",
       "    <tr>\n",
       "      <th>0</th>\n",
       "      <td>0</td>\n",
       "    </tr>\n",
       "    <tr>\n",
       "      <th>1</th>\n",
       "      <td>0</td>\n",
       "    </tr>\n",
       "    <tr>\n",
       "      <th>2</th>\n",
       "      <td>0</td>\n",
       "    </tr>\n",
       "    <tr>\n",
       "      <th>3</th>\n",
       "      <td>0</td>\n",
       "    </tr>\n",
       "    <tr>\n",
       "      <th>4</th>\n",
       "      <td>0</td>\n",
       "    </tr>\n",
       "    <tr>\n",
       "      <th>...</th>\n",
       "      <td>...</td>\n",
       "    </tr>\n",
       "    <tr>\n",
       "      <th>564</th>\n",
       "      <td>0</td>\n",
       "    </tr>\n",
       "    <tr>\n",
       "      <th>565</th>\n",
       "      <td>0</td>\n",
       "    </tr>\n",
       "    <tr>\n",
       "      <th>566</th>\n",
       "      <td>0</td>\n",
       "    </tr>\n",
       "    <tr>\n",
       "      <th>567</th>\n",
       "      <td>0</td>\n",
       "    </tr>\n",
       "    <tr>\n",
       "      <th>568</th>\n",
       "      <td>1</td>\n",
       "    </tr>\n",
       "  </tbody>\n",
       "</table>\n",
       "<p>569 rows × 1 columns</p>\n",
       "</div>"
      ],
      "text/plain": [
       "     0\n",
       "0    0\n",
       "1    0\n",
       "2    0\n",
       "3    0\n",
       "4    0\n",
       "..  ..\n",
       "564  0\n",
       "565  0\n",
       "566  0\n",
       "567  0\n",
       "568  1\n",
       "\n",
       "[569 rows x 1 columns]"
      ]
     },
     "execution_count": 43,
     "metadata": {},
     "output_type": "execute_result"
    }
   ],
   "source": [
    "y = pd.read_csv(r'C:\\Users\\thier\\Jupyter\\Card-12\\Seção 4\\saidas_breast.csv')\n",
    "y"
   ]
  },
  {
   "cell_type": "markdown",
   "id": "02afe025-5ffd-45b2-8d59-5835bafe01d1",
   "metadata": {},
   "source": [
    "Dividir os dados em treinamento e teste"
   ]
  },
  {
   "cell_type": "code",
   "execution_count": 45,
   "id": "69c1f93c-0de1-4a74-a4e3-cf3e87958aa7",
   "metadata": {},
   "outputs": [],
   "source": [
    "import sklearn\n",
    "from sklearn.model_selection import train_test_split"
   ]
  },
  {
   "cell_type": "code",
   "execution_count": 48,
   "id": "588a7a94-7b4e-4d57-a51d-1d7f3b0529f5",
   "metadata": {},
   "outputs": [
    {
     "data": {
      "text/plain": [
       "'1.4.2'"
      ]
     },
     "execution_count": 48,
     "metadata": {},
     "output_type": "execute_result"
    }
   ],
   "source": [
    "sklearn.__version__"
   ]
  },
  {
   "cell_type": "markdown",
   "id": "d16fa9c9-2e44-4d0a-acb7-e59b7f7bdcbf",
   "metadata": {},
   "source": [
    "test_size=0.25 -> 25% dos dados serão para teste"
   ]
  },
  {
   "cell_type": "code",
   "execution_count": 52,
   "id": "3a65d303-b108-4888-b0af-e24e93d98bc0",
   "metadata": {},
   "outputs": [],
   "source": [
    "X_treinamento, X_teste, y_treinamento, y_teste = train_test_split(X, y, test_size=0.25)"
   ]
  },
  {
   "cell_type": "markdown",
   "id": "6c4e19f2-a5c9-41ef-a420-4d0f45dfe13c",
   "metadata": {},
   "source": [
    "Quantidade de dados para treinamento:"
   ]
  },
  {
   "cell_type": "code",
   "execution_count": 61,
   "id": "138710e4-5c19-4e20-b973-60cc7ea79c2b",
   "metadata": {},
   "outputs": [
    {
     "data": {
      "text/plain": [
       "((426, 30), (426, 1))"
      ]
     },
     "execution_count": 61,
     "metadata": {},
     "output_type": "execute_result"
    }
   ],
   "source": [
    "X_treinamento.shape, y_treinamento.shape"
   ]
  },
  {
   "cell_type": "markdown",
   "id": "15784ee2-6a83-4793-9a1b-97b03f2e62b8",
   "metadata": {},
   "source": [
    "Quantidade de dados para Treinamento:"
   ]
  },
  {
   "cell_type": "code",
   "execution_count": 63,
   "id": "a73b83e8-aed2-4b0d-997f-8dc64741d04e",
   "metadata": {},
   "outputs": [
    {
     "data": {
      "text/plain": [
       "((143, 30), (143, 1))"
      ]
     },
     "execution_count": 63,
     "metadata": {},
     "output_type": "execute_result"
    }
   ],
   "source": [
    "X_teste.shape, y_teste.shape"
   ]
  },
  {
   "cell_type": "markdown",
   "id": "0ced4dae-f4ee-42b3-9ba6-fea0bdaae0b8",
   "metadata": {},
   "source": [
    "Estrutura da rede neural"
   ]
  },
  {
   "cell_type": "code",
   "execution_count": 68,
   "id": "9e38d66f-f20c-48f3-81c9-56af9b91e140",
   "metadata": {},
   "outputs": [],
   "source": [
    "import tensorflow as tf\n",
    "from tensorflow.keras.models import Sequential"
   ]
  },
  {
   "cell_type": "code",
   "execution_count": 70,
   "id": "5b635c9d-99af-4ec0-9125-d52f3be4f3c5",
   "metadata": {},
   "outputs": [
    {
     "data": {
      "text/plain": [
       "'2.17.0'"
      ]
     },
     "execution_count": 70,
     "metadata": {},
     "output_type": "execute_result"
    }
   ],
   "source": [
    "tf.__version__"
   ]
  },
  {
   "cell_type": "code",
   "execution_count": 74,
   "id": "c44b5039-faf5-427b-bd80-32b03f998461",
   "metadata": {},
   "outputs": [
    {
     "data": {
      "text/plain": [
       "15.5"
      ]
     },
     "execution_count": 74,
     "metadata": {},
     "output_type": "execute_result"
    }
   ],
   "source": [
    "(30 + 1)/ 2"
   ]
  },
  {
   "cell_type": "code",
   "execution_count": 117,
   "id": "fffc3bfc-669f-49c1-aa88-6ace6833238b",
   "metadata": {},
   "outputs": [],
   "source": [
    "rede_neural = Sequential([\n",
    "    tf.keras.layers.InputLayer(shape = (30,)), #30 neuronios na camada de entrada\n",
    "    tf.keras.layers.Dense(units = 16, activation = 'relu', kernel_initializer = 'random_uniform'), #16 neuronios na camada oculta, função de ativação relu e inicialização dos pesos\n",
    "    tf.keras.layers.Dense(units = 16, activation = 'relu', kernel_initializer = 'random_uniform'), #Mais 1 camada oculta\n",
    "    tf.keras.layers.Dense(units = 1, activation = 'sigmoid') #Camada de saída\n",
    "])"
   ]
  },
  {
   "cell_type": "code",
   "execution_count": 119,
   "id": "43d59831-1c76-4f88-a9a4-8fb6f738a9a5",
   "metadata": {},
   "outputs": [
    {
     "data": {
      "text/html": [
       "<pre style=\"white-space:pre;overflow-x:auto;line-height:normal;font-family:Menlo,'DejaVu Sans Mono',consolas,'Courier New',monospace\"><span style=\"font-weight: bold\">Model: \"sequential_1\"</span>\n",
       "</pre>\n"
      ],
      "text/plain": [
       "\u001b[1mModel: \"sequential_1\"\u001b[0m\n"
      ]
     },
     "metadata": {},
     "output_type": "display_data"
    },
    {
     "data": {
      "text/html": [
       "<pre style=\"white-space:pre;overflow-x:auto;line-height:normal;font-family:Menlo,'DejaVu Sans Mono',consolas,'Courier New',monospace\">┏━━━━━━━━━━━━━━━━━━━━━━━━━━━━━━━━━┳━━━━━━━━━━━━━━━━━━━━━━━━┳━━━━━━━━━━━━━━━┓\n",
       "┃<span style=\"font-weight: bold\"> Layer (type)                    </span>┃<span style=\"font-weight: bold\"> Output Shape           </span>┃<span style=\"font-weight: bold\">       Param # </span>┃\n",
       "┡━━━━━━━━━━━━━━━━━━━━━━━━━━━━━━━━━╇━━━━━━━━━━━━━━━━━━━━━━━━╇━━━━━━━━━━━━━━━┩\n",
       "│ dense_2 (<span style=\"color: #0087ff; text-decoration-color: #0087ff\">Dense</span>)                 │ (<span style=\"color: #00d7ff; text-decoration-color: #00d7ff\">None</span>, <span style=\"color: #00af00; text-decoration-color: #00af00\">16</span>)             │           <span style=\"color: #00af00; text-decoration-color: #00af00\">496</span> │\n",
       "├─────────────────────────────────┼────────────────────────┼───────────────┤\n",
       "│ dense_3 (<span style=\"color: #0087ff; text-decoration-color: #0087ff\">Dense</span>)                 │ (<span style=\"color: #00d7ff; text-decoration-color: #00d7ff\">None</span>, <span style=\"color: #00af00; text-decoration-color: #00af00\">16</span>)             │           <span style=\"color: #00af00; text-decoration-color: #00af00\">272</span> │\n",
       "├─────────────────────────────────┼────────────────────────┼───────────────┤\n",
       "│ dense_4 (<span style=\"color: #0087ff; text-decoration-color: #0087ff\">Dense</span>)                 │ (<span style=\"color: #00d7ff; text-decoration-color: #00d7ff\">None</span>, <span style=\"color: #00af00; text-decoration-color: #00af00\">1</span>)              │            <span style=\"color: #00af00; text-decoration-color: #00af00\">17</span> │\n",
       "└─────────────────────────────────┴────────────────────────┴───────────────┘\n",
       "</pre>\n"
      ],
      "text/plain": [
       "┏━━━━━━━━━━━━━━━━━━━━━━━━━━━━━━━━━┳━━━━━━━━━━━━━━━━━━━━━━━━┳━━━━━━━━━━━━━━━┓\n",
       "┃\u001b[1m \u001b[0m\u001b[1mLayer (type)                   \u001b[0m\u001b[1m \u001b[0m┃\u001b[1m \u001b[0m\u001b[1mOutput Shape          \u001b[0m\u001b[1m \u001b[0m┃\u001b[1m \u001b[0m\u001b[1m      Param #\u001b[0m\u001b[1m \u001b[0m┃\n",
       "┡━━━━━━━━━━━━━━━━━━━━━━━━━━━━━━━━━╇━━━━━━━━━━━━━━━━━━━━━━━━╇━━━━━━━━━━━━━━━┩\n",
       "│ dense_2 (\u001b[38;5;33mDense\u001b[0m)                 │ (\u001b[38;5;45mNone\u001b[0m, \u001b[38;5;34m16\u001b[0m)             │           \u001b[38;5;34m496\u001b[0m │\n",
       "├─────────────────────────────────┼────────────────────────┼───────────────┤\n",
       "│ dense_3 (\u001b[38;5;33mDense\u001b[0m)                 │ (\u001b[38;5;45mNone\u001b[0m, \u001b[38;5;34m16\u001b[0m)             │           \u001b[38;5;34m272\u001b[0m │\n",
       "├─────────────────────────────────┼────────────────────────┼───────────────┤\n",
       "│ dense_4 (\u001b[38;5;33mDense\u001b[0m)                 │ (\u001b[38;5;45mNone\u001b[0m, \u001b[38;5;34m1\u001b[0m)              │            \u001b[38;5;34m17\u001b[0m │\n",
       "└─────────────────────────────────┴────────────────────────┴───────────────┘\n"
      ]
     },
     "metadata": {},
     "output_type": "display_data"
    },
    {
     "data": {
      "text/html": [
       "<pre style=\"white-space:pre;overflow-x:auto;line-height:normal;font-family:Menlo,'DejaVu Sans Mono',consolas,'Courier New',monospace\"><span style=\"font-weight: bold\"> Total params: </span><span style=\"color: #00af00; text-decoration-color: #00af00\">785</span> (3.07 KB)\n",
       "</pre>\n"
      ],
      "text/plain": [
       "\u001b[1m Total params: \u001b[0m\u001b[38;5;34m785\u001b[0m (3.07 KB)\n"
      ]
     },
     "metadata": {},
     "output_type": "display_data"
    },
    {
     "data": {
      "text/html": [
       "<pre style=\"white-space:pre;overflow-x:auto;line-height:normal;font-family:Menlo,'DejaVu Sans Mono',consolas,'Courier New',monospace\"><span style=\"font-weight: bold\"> Trainable params: </span><span style=\"color: #00af00; text-decoration-color: #00af00\">785</span> (3.07 KB)\n",
       "</pre>\n"
      ],
      "text/plain": [
       "\u001b[1m Trainable params: \u001b[0m\u001b[38;5;34m785\u001b[0m (3.07 KB)\n"
      ]
     },
     "metadata": {},
     "output_type": "display_data"
    },
    {
     "data": {
      "text/html": [
       "<pre style=\"white-space:pre;overflow-x:auto;line-height:normal;font-family:Menlo,'DejaVu Sans Mono',consolas,'Courier New',monospace\"><span style=\"font-weight: bold\"> Non-trainable params: </span><span style=\"color: #00af00; text-decoration-color: #00af00\">0</span> (0.00 B)\n",
       "</pre>\n"
      ],
      "text/plain": [
       "\u001b[1m Non-trainable params: \u001b[0m\u001b[38;5;34m0\u001b[0m (0.00 B)\n"
      ]
     },
     "metadata": {},
     "output_type": "display_data"
    }
   ],
   "source": [
    "rede_neural.summary()"
   ]
  },
  {
   "cell_type": "markdown",
   "id": "a7bdec0e-fe74-414b-9100-959fe8609d4f",
   "metadata": {},
   "source": [
    "Configurando Parametros:"
   ]
  },
  {
   "cell_type": "code",
   "execution_count": 121,
   "id": "46aff0c5-2db7-4d1d-8657-ca19e88548f0",
   "metadata": {},
   "outputs": [],
   "source": [
    "otimizador = tf.keras.optimizers.Adam(learning_rate = 0.001, clipvalue = 0.5)"
   ]
  },
  {
   "cell_type": "code",
   "execution_count": 123,
   "id": "f62fa088-1b54-401a-9bc6-48041d358820",
   "metadata": {},
   "outputs": [],
   "source": [
    "rede_neural.compile(optimizer = otimizador, loss = 'binary_crossentropy', metrics = ['binary_accuracy']) #algoritmo para ajuste dos pesos, função que fara o calculo dos erros, lista com as metricas retornadas"
   ]
  },
  {
   "cell_type": "markdown",
   "id": "492e6873-b624-41cc-b048-726ba6aceead",
   "metadata": {},
   "source": [
    "Treinando a rede neural"
   ]
  },
  {
   "cell_type": "code",
   "execution_count": 125,
   "id": "df474932-c98e-41fd-912a-d19d72132ad7",
   "metadata": {},
   "outputs": [
    {
     "name": "stdout",
     "output_type": "stream",
     "text": [
      "Epoch 1/100\n",
      "\u001b[1m43/43\u001b[0m \u001b[32m━━━━━━━━━━━━━━━━━━━━\u001b[0m\u001b[37m\u001b[0m \u001b[1m1s\u001b[0m 1ms/step - binary_accuracy: 0.5247 - loss: 1.5516\n",
      "Epoch 2/100\n",
      "\u001b[1m43/43\u001b[0m \u001b[32m━━━━━━━━━━━━━━━━━━━━\u001b[0m\u001b[37m\u001b[0m \u001b[1m0s\u001b[0m 1ms/step - binary_accuracy: 0.6799 - loss: 0.5899 \n",
      "Epoch 3/100\n",
      "\u001b[1m43/43\u001b[0m \u001b[32m━━━━━━━━━━━━━━━━━━━━\u001b[0m\u001b[37m\u001b[0m \u001b[1m0s\u001b[0m 2ms/step - binary_accuracy: 0.7467 - loss: 0.4649\n",
      "Epoch 4/100\n",
      "\u001b[1m43/43\u001b[0m \u001b[32m━━━━━━━━━━━━━━━━━━━━\u001b[0m\u001b[37m\u001b[0m \u001b[1m0s\u001b[0m 1ms/step - binary_accuracy: 0.7640 - loss: 0.4750 \n",
      "Epoch 5/100\n",
      "\u001b[1m43/43\u001b[0m \u001b[32m━━━━━━━━━━━━━━━━━━━━\u001b[0m\u001b[37m\u001b[0m \u001b[1m0s\u001b[0m 1ms/step - binary_accuracy: 0.8173 - loss: 0.4185 \n",
      "Epoch 6/100\n",
      "\u001b[1m43/43\u001b[0m \u001b[32m━━━━━━━━━━━━━━━━━━━━\u001b[0m\u001b[37m\u001b[0m \u001b[1m0s\u001b[0m 1ms/step - binary_accuracy: 0.8023 - loss: 0.4164 \n",
      "Epoch 7/100\n",
      "\u001b[1m43/43\u001b[0m \u001b[32m━━━━━━━━━━━━━━━━━━━━\u001b[0m\u001b[37m\u001b[0m \u001b[1m0s\u001b[0m 1ms/step - binary_accuracy: 0.8178 - loss: 0.4887\n",
      "Epoch 8/100\n",
      "\u001b[1m43/43\u001b[0m \u001b[32m━━━━━━━━━━━━━━━━━━━━\u001b[0m\u001b[37m\u001b[0m \u001b[1m0s\u001b[0m 1ms/step - binary_accuracy: 0.8524 - loss: 0.4031\n",
      "Epoch 9/100\n",
      "\u001b[1m43/43\u001b[0m \u001b[32m━━━━━━━━━━━━━━━━━━━━\u001b[0m\u001b[37m\u001b[0m \u001b[1m0s\u001b[0m 1ms/step - binary_accuracy: 0.8504 - loss: 0.4072\n",
      "Epoch 10/100\n",
      "\u001b[1m43/43\u001b[0m \u001b[32m━━━━━━━━━━━━━━━━━━━━\u001b[0m\u001b[37m\u001b[0m \u001b[1m0s\u001b[0m 1ms/step - binary_accuracy: 0.8300 - loss: 0.4222\n",
      "Epoch 11/100\n",
      "\u001b[1m43/43\u001b[0m \u001b[32m━━━━━━━━━━━━━━━━━━━━\u001b[0m\u001b[37m\u001b[0m \u001b[1m0s\u001b[0m 1ms/step - binary_accuracy: 0.8524 - loss: 0.3698\n",
      "Epoch 12/100\n",
      "\u001b[1m43/43\u001b[0m \u001b[32m━━━━━━━━━━━━━━━━━━━━\u001b[0m\u001b[37m\u001b[0m \u001b[1m0s\u001b[0m 1ms/step - binary_accuracy: 0.8405 - loss: 0.4488\n",
      "Epoch 13/100\n",
      "\u001b[1m43/43\u001b[0m \u001b[32m━━━━━━━━━━━━━━━━━━━━\u001b[0m\u001b[37m\u001b[0m \u001b[1m0s\u001b[0m 1ms/step - binary_accuracy: 0.8683 - loss: 0.3715 \n",
      "Epoch 14/100\n",
      "\u001b[1m43/43\u001b[0m \u001b[32m━━━━━━━━━━━━━━━━━━━━\u001b[0m\u001b[37m\u001b[0m \u001b[1m0s\u001b[0m 1ms/step - binary_accuracy: 0.8469 - loss: 0.3924 \n",
      "Epoch 15/100\n",
      "\u001b[1m43/43\u001b[0m \u001b[32m━━━━━━━━━━━━━━━━━━━━\u001b[0m\u001b[37m\u001b[0m \u001b[1m0s\u001b[0m 1ms/step - binary_accuracy: 0.8447 - loss: 0.4648 \n",
      "Epoch 16/100\n",
      "\u001b[1m43/43\u001b[0m \u001b[32m━━━━━━━━━━━━━━━━━━━━\u001b[0m\u001b[37m\u001b[0m \u001b[1m0s\u001b[0m 1ms/step - binary_accuracy: 0.8547 - loss: 0.5813 \n",
      "Epoch 17/100\n",
      "\u001b[1m43/43\u001b[0m \u001b[32m━━━━━━━━━━━━━━━━━━━━\u001b[0m\u001b[37m\u001b[0m \u001b[1m0s\u001b[0m 1ms/step - binary_accuracy: 0.8081 - loss: 0.5404 \n",
      "Epoch 18/100\n",
      "\u001b[1m43/43\u001b[0m \u001b[32m━━━━━━━━━━━━━━━━━━━━\u001b[0m\u001b[37m\u001b[0m \u001b[1m0s\u001b[0m 1ms/step - binary_accuracy: 0.9063 - loss: 0.2807 \n",
      "Epoch 19/100\n",
      "\u001b[1m43/43\u001b[0m \u001b[32m━━━━━━━━━━━━━━━━━━━━\u001b[0m\u001b[37m\u001b[0m \u001b[1m0s\u001b[0m 1ms/step - binary_accuracy: 0.7978 - loss: 0.6058 \n",
      "Epoch 20/100\n",
      "\u001b[1m43/43\u001b[0m \u001b[32m━━━━━━━━━━━━━━━━━━━━\u001b[0m\u001b[37m\u001b[0m \u001b[1m0s\u001b[0m 1ms/step - binary_accuracy: 0.8337 - loss: 0.4657 \n",
      "Epoch 21/100\n",
      "\u001b[1m43/43\u001b[0m \u001b[32m━━━━━━━━━━━━━━━━━━━━\u001b[0m\u001b[37m\u001b[0m \u001b[1m0s\u001b[0m 2ms/step - binary_accuracy: 0.8591 - loss: 0.3963\n",
      "Epoch 22/100\n",
      "\u001b[1m43/43\u001b[0m \u001b[32m━━━━━━━━━━━━━━━━━━━━\u001b[0m\u001b[37m\u001b[0m \u001b[1m0s\u001b[0m 1ms/step - binary_accuracy: 0.8564 - loss: 0.3887 \n",
      "Epoch 23/100\n",
      "\u001b[1m43/43\u001b[0m \u001b[32m━━━━━━━━━━━━━━━━━━━━\u001b[0m\u001b[37m\u001b[0m \u001b[1m0s\u001b[0m 1ms/step - binary_accuracy: 0.8532 - loss: 0.7018 \n",
      "Epoch 24/100\n",
      "\u001b[1m43/43\u001b[0m \u001b[32m━━━━━━━━━━━━━━━━━━━━\u001b[0m\u001b[37m\u001b[0m \u001b[1m0s\u001b[0m 1ms/step - binary_accuracy: 0.8228 - loss: 0.9840 \n",
      "Epoch 25/100\n",
      "\u001b[1m43/43\u001b[0m \u001b[32m━━━━━━━━━━━━━━━━━━━━\u001b[0m\u001b[37m\u001b[0m \u001b[1m0s\u001b[0m 1ms/step - binary_accuracy: 0.8818 - loss: 0.2901 \n",
      "Epoch 26/100\n",
      "\u001b[1m43/43\u001b[0m \u001b[32m━━━━━━━━━━━━━━━━━━━━\u001b[0m\u001b[37m\u001b[0m \u001b[1m0s\u001b[0m 1ms/step - binary_accuracy: 0.8946 - loss: 0.3259\n",
      "Epoch 27/100\n",
      "\u001b[1m43/43\u001b[0m \u001b[32m━━━━━━━━━━━━━━━━━━━━\u001b[0m\u001b[37m\u001b[0m \u001b[1m0s\u001b[0m 1ms/step - binary_accuracy: 0.8846 - loss: 0.3059\n",
      "Epoch 28/100\n",
      "\u001b[1m43/43\u001b[0m \u001b[32m━━━━━━━━━━━━━━━━━━━━\u001b[0m\u001b[37m\u001b[0m \u001b[1m0s\u001b[0m 1ms/step - binary_accuracy: 0.8799 - loss: 0.2791\n",
      "Epoch 29/100\n",
      "\u001b[1m43/43\u001b[0m \u001b[32m━━━━━━━━━━━━━━━━━━━━\u001b[0m\u001b[37m\u001b[0m \u001b[1m0s\u001b[0m 1ms/step - binary_accuracy: 0.8660 - loss: 0.9018\n",
      "Epoch 30/100\n",
      "\u001b[1m43/43\u001b[0m \u001b[32m━━━━━━━━━━━━━━━━━━━━\u001b[0m\u001b[37m\u001b[0m \u001b[1m0s\u001b[0m 1ms/step - binary_accuracy: 0.8872 - loss: 0.3653\n",
      "Epoch 31/100\n",
      "\u001b[1m43/43\u001b[0m \u001b[32m━━━━━━━━━━━━━━━━━━━━\u001b[0m\u001b[37m\u001b[0m \u001b[1m0s\u001b[0m 1ms/step - binary_accuracy: 0.8346 - loss: 0.5717 \n",
      "Epoch 32/100\n",
      "\u001b[1m43/43\u001b[0m \u001b[32m━━━━━━━━━━━━━━━━━━━━\u001b[0m\u001b[37m\u001b[0m \u001b[1m0s\u001b[0m 1ms/step - binary_accuracy: 0.7836 - loss: 0.7609\n",
      "Epoch 33/100\n",
      "\u001b[1m43/43\u001b[0m \u001b[32m━━━━━━━━━━━━━━━━━━━━\u001b[0m\u001b[37m\u001b[0m \u001b[1m0s\u001b[0m 1ms/step - binary_accuracy: 0.8526 - loss: 0.9410\n",
      "Epoch 34/100\n",
      "\u001b[1m43/43\u001b[0m \u001b[32m━━━━━━━━━━━━━━━━━━━━\u001b[0m\u001b[37m\u001b[0m \u001b[1m0s\u001b[0m 1ms/step - binary_accuracy: 0.8664 - loss: 0.3657\n",
      "Epoch 35/100\n",
      "\u001b[1m43/43\u001b[0m \u001b[32m━━━━━━━━━━━━━━━━━━━━\u001b[0m\u001b[37m\u001b[0m \u001b[1m0s\u001b[0m 1ms/step - binary_accuracy: 0.8672 - loss: 0.3802\n",
      "Epoch 36/100\n",
      "\u001b[1m43/43\u001b[0m \u001b[32m━━━━━━━━━━━━━━━━━━━━\u001b[0m\u001b[37m\u001b[0m \u001b[1m0s\u001b[0m 1ms/step - binary_accuracy: 0.8025 - loss: 0.4446\n",
      "Epoch 37/100\n",
      "\u001b[1m43/43\u001b[0m \u001b[32m━━━━━━━━━━━━━━━━━━━━\u001b[0m\u001b[37m\u001b[0m \u001b[1m0s\u001b[0m 1ms/step - binary_accuracy: 0.8234 - loss: 0.5603 \n",
      "Epoch 38/100\n",
      "\u001b[1m43/43\u001b[0m \u001b[32m━━━━━━━━━━━━━━━━━━━━\u001b[0m\u001b[37m\u001b[0m \u001b[1m0s\u001b[0m 1ms/step - binary_accuracy: 0.8666 - loss: 0.5865 \n",
      "Epoch 39/100\n",
      "\u001b[1m43/43\u001b[0m \u001b[32m━━━━━━━━━━━━━━━━━━━━\u001b[0m\u001b[37m\u001b[0m \u001b[1m0s\u001b[0m 1ms/step - binary_accuracy: 0.8505 - loss: 0.4046 \n",
      "Epoch 40/100\n",
      "\u001b[1m43/43\u001b[0m \u001b[32m━━━━━━━━━━━━━━━━━━━━\u001b[0m\u001b[37m\u001b[0m \u001b[1m0s\u001b[0m 1ms/step - binary_accuracy: 0.8354 - loss: 0.7935 \n",
      "Epoch 41/100\n",
      "\u001b[1m43/43\u001b[0m \u001b[32m━━━━━━━━━━━━━━━━━━━━\u001b[0m\u001b[37m\u001b[0m \u001b[1m0s\u001b[0m 1ms/step - binary_accuracy: 0.8489 - loss: 0.5060 \n",
      "Epoch 42/100\n",
      "\u001b[1m43/43\u001b[0m \u001b[32m━━━━━━━━━━━━━━━━━━━━\u001b[0m\u001b[37m\u001b[0m \u001b[1m0s\u001b[0m 1ms/step - binary_accuracy: 0.8860 - loss: 0.4576 \n",
      "Epoch 43/100\n",
      "\u001b[1m43/43\u001b[0m \u001b[32m━━━━━━━━━━━━━━━━━━━━\u001b[0m\u001b[37m\u001b[0m \u001b[1m0s\u001b[0m 1ms/step - binary_accuracy: 0.8696 - loss: 0.3896 \n",
      "Epoch 44/100\n",
      "\u001b[1m43/43\u001b[0m \u001b[32m━━━━━━━━━━━━━━━━━━━━\u001b[0m\u001b[37m\u001b[0m \u001b[1m0s\u001b[0m 1ms/step - binary_accuracy: 0.9022 - loss: 0.4133\n",
      "Epoch 45/100\n",
      "\u001b[1m43/43\u001b[0m \u001b[32m━━━━━━━━━━━━━━━━━━━━\u001b[0m\u001b[37m\u001b[0m \u001b[1m0s\u001b[0m 1ms/step - binary_accuracy: 0.8976 - loss: 0.3377\n",
      "Epoch 46/100\n",
      "\u001b[1m43/43\u001b[0m \u001b[32m━━━━━━━━━━━━━━━━━━━━\u001b[0m\u001b[37m\u001b[0m \u001b[1m0s\u001b[0m 2ms/step - binary_accuracy: 0.8663 - loss: 0.3563\n",
      "Epoch 47/100\n",
      "\u001b[1m43/43\u001b[0m \u001b[32m━━━━━━━━━━━━━━━━━━━━\u001b[0m\u001b[37m\u001b[0m \u001b[1m0s\u001b[0m 2ms/step - binary_accuracy: 0.8972 - loss: 0.4024\n",
      "Epoch 48/100\n",
      "\u001b[1m43/43\u001b[0m \u001b[32m━━━━━━━━━━━━━━━━━━━━\u001b[0m\u001b[37m\u001b[0m \u001b[1m0s\u001b[0m 1ms/step - binary_accuracy: 0.8725 - loss: 0.3543 \n",
      "Epoch 49/100\n",
      "\u001b[1m43/43\u001b[0m \u001b[32m━━━━━━━━━━━━━━━━━━━━\u001b[0m\u001b[37m\u001b[0m \u001b[1m0s\u001b[0m 1ms/step - binary_accuracy: 0.8838 - loss: 0.3177\n",
      "Epoch 50/100\n",
      "\u001b[1m43/43\u001b[0m \u001b[32m━━━━━━━━━━━━━━━━━━━━\u001b[0m\u001b[37m\u001b[0m \u001b[1m0s\u001b[0m 1ms/step - binary_accuracy: 0.7852 - loss: 0.6694\n",
      "Epoch 51/100\n",
      "\u001b[1m43/43\u001b[0m \u001b[32m━━━━━━━━━━━━━━━━━━━━\u001b[0m\u001b[37m\u001b[0m \u001b[1m0s\u001b[0m 1ms/step - binary_accuracy: 0.8381 - loss: 0.6263\n",
      "Epoch 52/100\n",
      "\u001b[1m43/43\u001b[0m \u001b[32m━━━━━━━━━━━━━━━━━━━━\u001b[0m\u001b[37m\u001b[0m \u001b[1m0s\u001b[0m 1ms/step - binary_accuracy: 0.8314 - loss: 0.7974\n",
      "Epoch 53/100\n",
      "\u001b[1m43/43\u001b[0m \u001b[32m━━━━━━━━━━━━━━━━━━━━\u001b[0m\u001b[37m\u001b[0m \u001b[1m0s\u001b[0m 1ms/step - binary_accuracy: 0.8605 - loss: 0.8555\n",
      "Epoch 54/100\n",
      "\u001b[1m43/43\u001b[0m \u001b[32m━━━━━━━━━━━━━━━━━━━━\u001b[0m\u001b[37m\u001b[0m \u001b[1m0s\u001b[0m 1ms/step - binary_accuracy: 0.8417 - loss: 0.6710\n",
      "Epoch 55/100\n",
      "\u001b[1m43/43\u001b[0m \u001b[32m━━━━━━━━━━━━━━━━━━━━\u001b[0m\u001b[37m\u001b[0m \u001b[1m0s\u001b[0m 1ms/step - binary_accuracy: 0.8466 - loss: 0.6431 \n",
      "Epoch 56/100\n",
      "\u001b[1m43/43\u001b[0m \u001b[32m━━━━━━━━━━━━━━━━━━━━\u001b[0m\u001b[37m\u001b[0m \u001b[1m0s\u001b[0m 1ms/step - binary_accuracy: 0.8266 - loss: 0.5459\n",
      "Epoch 57/100\n",
      "\u001b[1m43/43\u001b[0m \u001b[32m━━━━━━━━━━━━━━━━━━━━\u001b[0m\u001b[37m\u001b[0m \u001b[1m0s\u001b[0m 2ms/step - binary_accuracy: 0.8452 - loss: 0.4036\n",
      "Epoch 58/100\n",
      "\u001b[1m43/43\u001b[0m \u001b[32m━━━━━━━━━━━━━━━━━━━━\u001b[0m\u001b[37m\u001b[0m \u001b[1m0s\u001b[0m 2ms/step - binary_accuracy: 0.8648 - loss: 0.5809\n",
      "Epoch 59/100\n",
      "\u001b[1m43/43\u001b[0m \u001b[32m━━━━━━━━━━━━━━━━━━━━\u001b[0m\u001b[37m\u001b[0m \u001b[1m0s\u001b[0m 1ms/step - binary_accuracy: 0.8479 - loss: 0.5356\n",
      "Epoch 60/100\n",
      "\u001b[1m43/43\u001b[0m \u001b[32m━━━━━━━━━━━━━━━━━━━━\u001b[0m\u001b[37m\u001b[0m \u001b[1m0s\u001b[0m 1ms/step - binary_accuracy: 0.8231 - loss: 0.7258\n",
      "Epoch 61/100\n",
      "\u001b[1m43/43\u001b[0m \u001b[32m━━━━━━━━━━━━━━━━━━━━\u001b[0m\u001b[37m\u001b[0m \u001b[1m0s\u001b[0m 1ms/step - binary_accuracy: 0.8686 - loss: 0.4613 \n",
      "Epoch 62/100\n",
      "\u001b[1m43/43\u001b[0m \u001b[32m━━━━━━━━━━━━━━━━━━━━\u001b[0m\u001b[37m\u001b[0m \u001b[1m0s\u001b[0m 1ms/step - binary_accuracy: 0.8443 - loss: 0.5030 \n",
      "Epoch 63/100\n",
      "\u001b[1m43/43\u001b[0m \u001b[32m━━━━━━━━━━━━━━━━━━━━\u001b[0m\u001b[37m\u001b[0m \u001b[1m0s\u001b[0m 1ms/step - binary_accuracy: 0.8449 - loss: 0.7162\n",
      "Epoch 64/100\n",
      "\u001b[1m43/43\u001b[0m \u001b[32m━━━━━━━━━━━━━━━━━━━━\u001b[0m\u001b[37m\u001b[0m \u001b[1m0s\u001b[0m 1ms/step - binary_accuracy: 0.8404 - loss: 0.9492\n",
      "Epoch 65/100\n",
      "\u001b[1m43/43\u001b[0m \u001b[32m━━━━━━━━━━━━━━━━━━━━\u001b[0m\u001b[37m\u001b[0m \u001b[1m0s\u001b[0m 1ms/step - binary_accuracy: 0.8958 - loss: 0.4141 \n",
      "Epoch 66/100\n",
      "\u001b[1m43/43\u001b[0m \u001b[32m━━━━━━━━━━━━━━━━━━━━\u001b[0m\u001b[37m\u001b[0m \u001b[1m0s\u001b[0m 2ms/step - binary_accuracy: 0.8677 - loss: 0.4382\n",
      "Epoch 67/100\n",
      "\u001b[1m43/43\u001b[0m \u001b[32m━━━━━━━━━━━━━━━━━━━━\u001b[0m\u001b[37m\u001b[0m \u001b[1m0s\u001b[0m 1ms/step - binary_accuracy: 0.8740 - loss: 0.5220\n",
      "Epoch 68/100\n",
      "\u001b[1m43/43\u001b[0m \u001b[32m━━━━━━━━━━━━━━━━━━━━\u001b[0m\u001b[37m\u001b[0m \u001b[1m0s\u001b[0m 1ms/step - binary_accuracy: 0.8341 - loss: 0.3895\n",
      "Epoch 69/100\n",
      "\u001b[1m43/43\u001b[0m \u001b[32m━━━━━━━━━━━━━━━━━━━━\u001b[0m\u001b[37m\u001b[0m \u001b[1m0s\u001b[0m 1ms/step - binary_accuracy: 0.7992 - loss: 0.5971\n",
      "Epoch 70/100\n",
      "\u001b[1m43/43\u001b[0m \u001b[32m━━━━━━━━━━━━━━━━━━━━\u001b[0m\u001b[37m\u001b[0m \u001b[1m0s\u001b[0m 1ms/step - binary_accuracy: 0.8534 - loss: 0.4597 \n",
      "Epoch 71/100\n",
      "\u001b[1m43/43\u001b[0m \u001b[32m━━━━━━━━━━━━━━━━━━━━\u001b[0m\u001b[37m\u001b[0m \u001b[1m0s\u001b[0m 1ms/step - binary_accuracy: 0.8071 - loss: 0.6424 \n",
      "Epoch 72/100\n",
      "\u001b[1m43/43\u001b[0m \u001b[32m━━━━━━━━━━━━━━━━━━━━\u001b[0m\u001b[37m\u001b[0m \u001b[1m0s\u001b[0m 994us/step - binary_accuracy: 0.8936 - loss: 0.4426\n",
      "Epoch 73/100\n",
      "\u001b[1m43/43\u001b[0m \u001b[32m━━━━━━━━━━━━━━━━━━━━\u001b[0m\u001b[37m\u001b[0m \u001b[1m0s\u001b[0m 1ms/step - binary_accuracy: 0.8826 - loss: 0.4300 \n",
      "Epoch 74/100\n",
      "\u001b[1m43/43\u001b[0m \u001b[32m━━━━━━━━━━━━━━━━━━━━\u001b[0m\u001b[37m\u001b[0m \u001b[1m0s\u001b[0m 1ms/step - binary_accuracy: 0.8584 - loss: 0.3971 \n",
      "Epoch 75/100\n",
      "\u001b[1m43/43\u001b[0m \u001b[32m━━━━━━━━━━━━━━━━━━━━\u001b[0m\u001b[37m\u001b[0m \u001b[1m0s\u001b[0m 1ms/step - binary_accuracy: 0.8623 - loss: 0.5012 \n",
      "Epoch 76/100\n",
      "\u001b[1m43/43\u001b[0m \u001b[32m━━━━━━━━━━━━━━━━━━━━\u001b[0m\u001b[37m\u001b[0m \u001b[1m0s\u001b[0m 1ms/step - binary_accuracy: 0.8451 - loss: 0.5242 \n",
      "Epoch 77/100\n",
      "\u001b[1m43/43\u001b[0m \u001b[32m━━━━━━━━━━━━━━━━━━━━\u001b[0m\u001b[37m\u001b[0m \u001b[1m0s\u001b[0m 1ms/step - binary_accuracy: 0.8585 - loss: 0.4805 \n",
      "Epoch 78/100\n",
      "\u001b[1m43/43\u001b[0m \u001b[32m━━━━━━━━━━━━━━━━━━━━\u001b[0m\u001b[37m\u001b[0m \u001b[1m0s\u001b[0m 1ms/step - binary_accuracy: 0.8748 - loss: 0.5079 \n",
      "Epoch 79/100\n",
      "\u001b[1m43/43\u001b[0m \u001b[32m━━━━━━━━━━━━━━━━━━━━\u001b[0m\u001b[37m\u001b[0m \u001b[1m0s\u001b[0m 1ms/step - binary_accuracy: 0.8936 - loss: 0.5812 \n",
      "Epoch 80/100\n",
      "\u001b[1m43/43\u001b[0m \u001b[32m━━━━━━━━━━━━━━━━━━━━\u001b[0m\u001b[37m\u001b[0m \u001b[1m0s\u001b[0m 1ms/step - binary_accuracy: 0.8704 - loss: 0.4561 \n",
      "Epoch 81/100\n",
      "\u001b[1m43/43\u001b[0m \u001b[32m━━━━━━━━━━━━━━━━━━━━\u001b[0m\u001b[37m\u001b[0m \u001b[1m0s\u001b[0m 1ms/step - binary_accuracy: 0.8587 - loss: 0.4899 \n",
      "Epoch 82/100\n",
      "\u001b[1m43/43\u001b[0m \u001b[32m━━━━━━━━━━━━━━━━━━━━\u001b[0m\u001b[37m\u001b[0m \u001b[1m0s\u001b[0m 1ms/step - binary_accuracy: 0.8447 - loss: 0.7611 \n",
      "Epoch 83/100\n",
      "\u001b[1m43/43\u001b[0m \u001b[32m━━━━━━━━━━━━━━━━━━━━\u001b[0m\u001b[37m\u001b[0m \u001b[1m0s\u001b[0m 2ms/step - binary_accuracy: 0.8684 - loss: 0.4934\n",
      "Epoch 84/100\n",
      "\u001b[1m43/43\u001b[0m \u001b[32m━━━━━━━━━━━━━━━━━━━━\u001b[0m\u001b[37m\u001b[0m \u001b[1m0s\u001b[0m 1ms/step - binary_accuracy: 0.8431 - loss: 0.5850\n",
      "Epoch 85/100\n",
      "\u001b[1m43/43\u001b[0m \u001b[32m━━━━━━━━━━━━━━━━━━━━\u001b[0m\u001b[37m\u001b[0m \u001b[1m0s\u001b[0m 1ms/step - binary_accuracy: 0.8506 - loss: 0.5773 \n",
      "Epoch 86/100\n",
      "\u001b[1m43/43\u001b[0m \u001b[32m━━━━━━━━━━━━━━━━━━━━\u001b[0m\u001b[37m\u001b[0m \u001b[1m0s\u001b[0m 1ms/step - binary_accuracy: 0.8360 - loss: 1.1659 \n",
      "Epoch 87/100\n",
      "\u001b[1m43/43\u001b[0m \u001b[32m━━━━━━━━━━━━━━━━━━━━\u001b[0m\u001b[37m\u001b[0m \u001b[1m0s\u001b[0m 1ms/step - binary_accuracy: 0.8347 - loss: 0.4709 \n",
      "Epoch 88/100\n",
      "\u001b[1m43/43\u001b[0m \u001b[32m━━━━━━━━━━━━━━━━━━━━\u001b[0m\u001b[37m\u001b[0m \u001b[1m0s\u001b[0m 1ms/step - binary_accuracy: 0.8530 - loss: 0.7757 \n",
      "Epoch 89/100\n",
      "\u001b[1m43/43\u001b[0m \u001b[32m━━━━━━━━━━━━━━━━━━━━\u001b[0m\u001b[37m\u001b[0m \u001b[1m0s\u001b[0m 1ms/step - binary_accuracy: 0.8555 - loss: 0.7524 \n",
      "Epoch 90/100\n",
      "\u001b[1m43/43\u001b[0m \u001b[32m━━━━━━━━━━━━━━━━━━━━\u001b[0m\u001b[37m\u001b[0m \u001b[1m0s\u001b[0m 1ms/step - binary_accuracy: 0.8418 - loss: 0.6413\n",
      "Epoch 91/100\n",
      "\u001b[1m43/43\u001b[0m \u001b[32m━━━━━━━━━━━━━━━━━━━━\u001b[0m\u001b[37m\u001b[0m \u001b[1m0s\u001b[0m 1ms/step - binary_accuracy: 0.8271 - loss: 1.0339 \n",
      "Epoch 92/100\n",
      "\u001b[1m43/43\u001b[0m \u001b[32m━━━━━━━━━━━━━━━━━━━━\u001b[0m\u001b[37m\u001b[0m \u001b[1m0s\u001b[0m 1ms/step - binary_accuracy: 0.8081 - loss: 0.5463 \n",
      "Epoch 93/100\n",
      "\u001b[1m43/43\u001b[0m \u001b[32m━━━━━━━━━━━━━━━━━━━━\u001b[0m\u001b[37m\u001b[0m \u001b[1m0s\u001b[0m 1ms/step - binary_accuracy: 0.8074 - loss: 0.5713 \n",
      "Epoch 94/100\n",
      "\u001b[1m43/43\u001b[0m \u001b[32m━━━━━━━━━━━━━━━━━━━━\u001b[0m\u001b[37m\u001b[0m \u001b[1m0s\u001b[0m 1ms/step - binary_accuracy: 0.8150 - loss: 0.7958 \n",
      "Epoch 95/100\n",
      "\u001b[1m43/43\u001b[0m \u001b[32m━━━━━━━━━━━━━━━━━━━━\u001b[0m\u001b[37m\u001b[0m \u001b[1m0s\u001b[0m 1ms/step - binary_accuracy: 0.8494 - loss: 0.5372 \n",
      "Epoch 96/100\n",
      "\u001b[1m43/43\u001b[0m \u001b[32m━━━━━━━━━━━━━━━━━━━━\u001b[0m\u001b[37m\u001b[0m \u001b[1m0s\u001b[0m 1ms/step - binary_accuracy: 0.8431 - loss: 0.5141 \n",
      "Epoch 97/100\n",
      "\u001b[1m43/43\u001b[0m \u001b[32m━━━━━━━━━━━━━━━━━━━━\u001b[0m\u001b[37m\u001b[0m \u001b[1m0s\u001b[0m 1ms/step - binary_accuracy: 0.8548 - loss: 0.4248 \n",
      "Epoch 98/100\n",
      "\u001b[1m43/43\u001b[0m \u001b[32m━━━━━━━━━━━━━━━━━━━━\u001b[0m\u001b[37m\u001b[0m \u001b[1m0s\u001b[0m 1ms/step - binary_accuracy: 0.8827 - loss: 0.4872 \n",
      "Epoch 99/100\n",
      "\u001b[1m43/43\u001b[0m \u001b[32m━━━━━━━━━━━━━━━━━━━━\u001b[0m\u001b[37m\u001b[0m \u001b[1m0s\u001b[0m 2ms/step - binary_accuracy: 0.8189 - loss: 1.0466\n",
      "Epoch 100/100\n",
      "\u001b[1m43/43\u001b[0m \u001b[32m━━━━━━━━━━━━━━━━━━━━\u001b[0m\u001b[37m\u001b[0m \u001b[1m0s\u001b[0m 2ms/step - binary_accuracy: 0.7379 - loss: 1.0635\n"
     ]
    },
    {
     "data": {
      "text/plain": [
       "<keras.src.callbacks.history.History at 0x18320442bd0>"
      ]
     },
     "execution_count": 125,
     "metadata": {},
     "output_type": "execute_result"
    }
   ],
   "source": [
    "rede_neural.fit(X_treinamento, y_treinamento, batch_size = 10, epochs = 100)"
   ]
  },
  {
   "cell_type": "code",
   "execution_count": 133,
   "id": "d9c2210c-c0bd-465a-bf63-6262c1ca9ed1",
   "metadata": {},
   "outputs": [
    {
     "data": {
      "text/plain": [
       "2"
      ]
     },
     "execution_count": 133,
     "metadata": {},
     "output_type": "execute_result"
    }
   ],
   "source": [
    "len(pesos0)"
   ]
  },
  {
   "cell_type": "markdown",
   "id": "9bb346d3-54a9-4d2c-8fb7-62a390665018",
   "metadata": {},
   "source": [
    "Visualizando os pesos:"
   ]
  },
  {
   "cell_type": "code",
   "execution_count": 131,
   "id": "97fa06d0-729c-4464-bda4-e3da1a0eaf31",
   "metadata": {},
   "outputs": [
    {
     "data": {
      "text/plain": [
       "[array([[-1.88278295e-02, -1.67131834e-02,  6.17245995e-02,\n",
       "          1.44009396e-01, -2.72264212e-01,  1.33758157e-01,\n",
       "         -2.19600089e-02, -4.41139877e-01,  7.92338792e-03,\n",
       "         -2.16831550e-01, -2.38531098e-01, -1.58787481e-02,\n",
       "         -3.03398490e-01, -2.42784888e-01, -8.46646652e-02,\n",
       "          3.01566571e-02],\n",
       "        [ 6.03218079e-02,  2.09388137e-02, -3.15584280e-02,\n",
       "          6.90600649e-02, -3.12190354e-01,  1.05647258e-01,\n",
       "          9.12154838e-03, -4.94440705e-01, -8.99229646e-02,\n",
       "         -2.37513602e-01, -1.26268685e-01,  1.08294174e-01,\n",
       "         -2.16117129e-01, -2.44312167e-01, -1.20719455e-01,\n",
       "          1.12120561e-01],\n",
       "        [-3.16418111e-02,  3.50257754e-02, -5.01523018e-02,\n",
       "          7.50813931e-02, -1.02480114e-01, -2.86140572e-02,\n",
       "         -4.34997305e-02, -1.93427965e-01,  3.72999050e-02,\n",
       "          9.21222791e-02, -1.01581417e-01,  9.50177535e-02,\n",
       "         -3.40588577e-02, -7.05011413e-02, -9.88993645e-02,\n",
       "         -8.69954452e-02],\n",
       "        [ 8.99305865e-02,  9.15395617e-02,  4.18618834e-03,\n",
       "          8.79195239e-03,  1.66257489e-02, -3.23853903e-02,\n",
       "         -5.86755909e-02, -3.99146490e-02,  4.50613163e-02,\n",
       "          5.58751933e-02,  5.91807775e-02,  2.87177786e-02,\n",
       "          6.77860603e-02,  7.76672363e-02,  4.25557233e-02,\n",
       "         -2.41658445e-02],\n",
       "        [ 8.98739696e-03, -2.31059089e-01, -5.94603159e-02,\n",
       "         -1.40227020e-01,  3.87753993e-02,  9.03874487e-02,\n",
       "          3.58519219e-02,  2.37202525e-01,  5.97699657e-02,\n",
       "          4.24709953e-02, -4.98946421e-02, -2.69174695e-01,\n",
       "         -1.06571451e-01, -6.94809631e-02,  1.06951103e-01,\n",
       "          5.32205291e-02],\n",
       "        [-1.37282098e-02,  1.07811086e-01, -3.07758544e-02,\n",
       "          1.38141125e-01, -3.61875504e-01,  3.38451788e-02,\n",
       "          2.60671899e-02,  2.60123145e-02,  1.27140597e-01,\n",
       "         -2.09594481e-02, -1.60887539e-01,  4.49270345e-02,\n",
       "         -1.75698042e-01, -3.34526092e-01,  8.29847455e-02,\n",
       "          1.01528905e-01],\n",
       "        [ 1.83505401e-01,  8.27269182e-02, -1.28341898e-01,\n",
       "         -1.41013503e-01, -2.39242062e-01,  9.39297974e-02,\n",
       "         -3.64500619e-02, -2.74616897e-01, -1.47103444e-01,\n",
       "         -1.77451760e-01, -7.41209462e-02,  8.42351317e-02,\n",
       "         -1.14053652e-01, -6.38288930e-02, -1.76582932e-02,\n",
       "         -1.90194789e-02],\n",
       "        [ 1.77426860e-01, -3.64663869e-01, -2.08978713e-01,\n",
       "         -1.67447209e-01, -1.76052049e-01,  1.92172647e-01,\n",
       "          1.93210766e-02,  1.71900481e-01, -6.17690347e-02,\n",
       "         -1.36477336e-01, -3.74237150e-01, -2.33377844e-01,\n",
       "         -4.01972793e-02, -2.26559520e-01,  3.97918910e-01,\n",
       "          1.05442263e-01],\n",
       "        [-6.69177324e-02, -1.23161316e-01,  8.80839750e-02,\n",
       "         -4.82810996e-02,  4.42338958e-02,  4.68967762e-03,\n",
       "          1.50306635e-02,  1.20143607e-01, -8.70641973e-03,\n",
       "          1.60002187e-01,  5.97969256e-02, -1.30375504e-01,\n",
       "          9.16741267e-02,  4.51502427e-02,  8.99457652e-03,\n",
       "         -3.01205754e-01],\n",
       "        [-4.31772143e-01,  6.10484064e-01, -1.56221360e-01,\n",
       "          2.85254240e-01, -4.15506274e-01, -2.33610198e-01,\n",
       "         -3.25611681e-02, -6.43455744e-01,  2.37986431e-01,\n",
       "         -5.28004542e-02,  9.97853130e-02,  1.64178014e-01,\n",
       "          2.83881754e-01,  1.43146813e-01, -7.58344084e-02,\n",
       "         -1.96258754e-01],\n",
       "        [-4.18287329e-02,  5.94246276e-02, -6.24679588e-02,\n",
       "         -2.61917189e-02, -9.40679535e-02, -5.06419316e-03,\n",
       "         -3.52300666e-02, -1.63342521e-01,  1.69603433e-02,\n",
       "         -1.18261054e-01, -1.36732966e-01, -5.86489551e-02,\n",
       "         -1.13433274e-02, -2.44132541e-02,  9.03170779e-02,\n",
       "         -1.28692433e-01],\n",
       "        [-1.72996014e-01,  2.36209929e-02,  3.56124504e-03,\n",
       "          5.67449816e-02,  7.28006363e-02, -8.48017782e-02,\n",
       "         -4.12469171e-02,  1.50360316e-01,  3.44298594e-02,\n",
       "          4.84631471e-02, -4.24854830e-02, -4.06361260e-02,\n",
       "         -3.03259104e-01, -3.83703299e-02, -9.27047953e-02,\n",
       "         -7.79145285e-02],\n",
       "        [ 1.34471878e-01, -3.24491155e-03, -2.36435514e-02,\n",
       "          2.46619731e-02,  5.12040034e-02,  1.54056132e-01,\n",
       "         -5.91078326e-02,  4.27871756e-02, -1.86387151e-02,\n",
       "          2.45381743e-02,  6.17309399e-02,  3.22885029e-02,\n",
       "          7.80711174e-02,  5.79872616e-02,  6.19020611e-02,\n",
       "          2.84477249e-02],\n",
       "        [ 4.25451010e-01,  1.01267897e-01, -1.92395583e-01,\n",
       "          2.36243278e-01, -1.04958248e+00,  2.45441973e-01,\n",
       "         -3.38577889e-02, -1.00879073e+00, -6.31752759e-02,\n",
       "         -1.01249528e+00, -9.50917423e-01, -1.60997897e-01,\n",
       "         -5.18460333e-01, -9.34157073e-01,  1.89503819e-01,\n",
       "          2.74113834e-01],\n",
       "        [ 8.34795013e-02, -1.95324086e-02,  2.30432786e-02,\n",
       "          1.59696490e-01, -3.75254571e-01,  6.16355538e-02,\n",
       "         -2.06371583e-02, -6.43180192e-01, -1.46982551e-01,\n",
       "         -2.11138323e-01, -1.26135290e-01,  1.86541840e-01,\n",
       "         -3.34490567e-01, -3.59325141e-01, -2.11961940e-01,\n",
       "          2.26459071e-01],\n",
       "        [ 2.75759161e-01, -3.12732428e-01,  2.27101017e-02,\n",
       "         -7.90579990e-02, -3.46980616e-03,  2.00552285e-01,\n",
       "         -2.70578335e-03,  6.77233934e-02, -3.30445826e-01,\n",
       "         -3.19154948e-01, -3.67105097e-01, -8.89732465e-02,\n",
       "         -5.26954949e-01, -3.32700044e-01,  8.95822942e-02,\n",
       "          2.07143098e-01],\n",
       "        [ 1.24588192e-01, -6.87126890e-02, -1.61205038e-01,\n",
       "          3.23300902e-03, -9.49161947e-02,  9.81290564e-02,\n",
       "         -3.18363984e-03,  9.21776220e-02, -2.74277329e-01,\n",
       "         -1.55752823e-01, -2.20830142e-01, -1.81723371e-01,\n",
       "         -2.89558560e-01, -2.78427362e-01,  2.05070302e-02,\n",
       "          1.72978222e-01],\n",
       "        [-4.26185787e-01, -9.92351621e-02, -9.21018701e-03,\n",
       "          1.23044148e-01,  2.58576572e-01, -6.09238967e-02,\n",
       "         -4.41781804e-02,  2.85879999e-01,  7.12282300e-01,\n",
       "          4.74466205e-01,  4.99260910e-02,  6.53625056e-02,\n",
       "          5.54790795e-01,  2.37747595e-01,  6.12059310e-02,\n",
       "         -4.61110808e-02],\n",
       "        [-5.85137159e-02,  4.12393451e-01,  4.71915156e-02,\n",
       "          6.57716393e-02,  9.76122096e-02, -1.28360108e-01,\n",
       "         -2.27732565e-02, -2.64762640e-01,  1.81356132e-01,\n",
       "          4.01259840e-01,  3.36758077e-01,  3.95122841e-02,\n",
       "          4.11346495e-01,  3.69915575e-01, -1.48591101e-01,\n",
       "         -2.23671570e-01],\n",
       "        [ 4.85243410e-01,  1.01700582e-01, -6.34643659e-02,\n",
       "         -1.01492621e-01, -4.44771707e-01,  1.43933088e-01,\n",
       "          2.45379414e-02, -3.82768393e-01, -5.23349524e-01,\n",
       "         -1.70859084e-01,  1.43413454e-01,  4.45720464e-01,\n",
       "         -2.17413884e-02, -8.76125172e-02, -1.30502135e-01,\n",
       "          3.24783742e-01],\n",
       "        [ 1.14186089e-02, -4.96496856e-02, -1.69407539e-02,\n",
       "          1.72485232e-01, -3.85689527e-01,  1.31217837e-01,\n",
       "         -4.55954894e-02, -4.25408930e-01, -5.85856363e-02,\n",
       "         -3.28323185e-01, -2.95414627e-01, -2.46361103e-02,\n",
       "         -4.07739967e-01, -3.26057583e-01, -5.36238439e-02,\n",
       "          5.90322986e-02],\n",
       "        [ 1.99047804e-01, -2.16308031e-02, -1.11259118e-01,\n",
       "          5.24515733e-02, -3.56679648e-01,  1.50736898e-01,\n",
       "         -5.58772907e-02, -5.27345419e-01, -7.37160295e-02,\n",
       "         -2.34502777e-01, -2.01907307e-01,  1.52141497e-01,\n",
       "         -3.06726366e-01, -3.25412720e-01, -7.78564811e-02,\n",
       "          7.57655650e-02],\n",
       "        [ 8.66318867e-02, -4.65761404e-03, -7.07731918e-02,\n",
       "          6.10735826e-02, -1.96166143e-01,  2.74693593e-02,\n",
       "          1.85436998e-02, -1.85288593e-01,  9.17093456e-03,\n",
       "         -5.93343191e-02, -9.10023302e-02,  5.55212498e-02,\n",
       "         -6.75065666e-02, -1.33420438e-01, -2.06366759e-02,\n",
       "         -4.75264899e-02],\n",
       "        [ 2.25628957e-01,  5.35332263e-02, -3.02143600e-02,\n",
       "         -2.35234555e-02, -1.22610874e-01,  7.55773708e-02,\n",
       "          3.75577696e-02, -7.14817792e-02,  2.31050998e-02,\n",
       "         -5.10818325e-02, -8.44807401e-02, -3.54304053e-02,\n",
       "         -1.77177624e-03, -5.47116436e-02,  3.26101780e-02,\n",
       "          5.27789742e-02],\n",
       "        [-3.09858774e-03,  2.95604370e-03, -4.55732122e-02,\n",
       "         -5.30508980e-02, -6.37452677e-02,  3.76742259e-02,\n",
       "         -4.59937304e-02, -2.03850091e-01,  5.18350378e-02,\n",
       "          4.55850698e-02, -3.32382545e-02,  2.06859633e-02,\n",
       "          1.60058826e-01, -9.96821374e-02, -1.61742009e-02,\n",
       "         -1.72089532e-01],\n",
       "        [-7.76570663e-02, -1.59965709e-01,  8.58751126e-03,\n",
       "         -1.31108522e-01, -1.03323177e-01,  2.59761587e-02,\n",
       "          4.27310995e-04,  8.50489810e-02,  1.04161032e-01,\n",
       "          2.77814835e-01, -1.10304624e-01, -2.37578809e-01,\n",
       "          1.35811374e-01, -1.43463030e-01,  3.27092111e-01,\n",
       "         -6.52156174e-02],\n",
       "        [-5.82728311e-02, -1.17669627e-01, -7.67336115e-02,\n",
       "         -5.27197607e-02,  8.47684816e-02, -3.06138750e-02,\n",
       "         -2.32220907e-02,  6.76248744e-02,  9.67265889e-02,\n",
       "          1.06921703e-01,  2.35963445e-02, -1.31883249e-01,\n",
       "          8.70856866e-02, -3.12787220e-02,  1.22205853e-01,\n",
       "         -4.63395834e-01],\n",
       "        [ 2.39281747e-02, -1.89387679e-01, -8.81604552e-02,\n",
       "         -2.15235054e-02, -9.95577425e-02,  1.16464973e-03,\n",
       "          2.39610579e-03,  1.87958211e-01, -5.32416441e-02,\n",
       "         -1.81361705e-01, -2.42591813e-01, -2.64119834e-01,\n",
       "         -4.65341210e-02, -1.29169151e-01,  1.67096391e-01,\n",
       "         -1.03543349e-01],\n",
       "        [ 3.81833948e-02,  1.59086417e-02, -2.94062253e-02,\n",
       "          5.33093549e-02, -2.18352154e-01,  8.60399455e-02,\n",
       "          7.72770145e-04,  1.04104638e-01,  1.24322418e-02,\n",
       "          5.53186946e-02, -2.16687605e-01,  9.05865133e-02,\n",
       "          5.00816889e-02, -3.65906298e-01,  4.94042132e-03,\n",
       "         -3.07001173e-02],\n",
       "        [ 4.89487708e-01,  1.52635574e-02, -1.23129316e-01,\n",
       "         -7.31796101e-02, -3.18132818e-01,  1.72055140e-01,\n",
       "          2.30244678e-02, -5.23425698e-01, -4.21816468e-01,\n",
       "         -2.82781780e-01, -1.13305070e-01,  6.74791783e-02,\n",
       "         -2.28928223e-01, -2.38727242e-01, -4.27822992e-02,\n",
       "          3.39873821e-01]], dtype=float32),\n",
       " array([-0.43433532,  0.33492514, -0.03136262,  0.22037457,  0.12674741,\n",
       "        -0.1998794 , -0.00990649, -0.10444452,  0.34278104,  0.2282489 ,\n",
       "         0.21852916,  0.11968071,  0.10565764,  0.17564505, -0.3571114 ,\n",
       "        -0.27432367], dtype=float32)]"
      ]
     },
     "execution_count": 131,
     "metadata": {},
     "output_type": "execute_result"
    }
   ],
   "source": [
    "pesos0 = rede_neural.layers[0].get_weights()\n",
    "pesos0"
   ]
  },
  {
   "cell_type": "code",
   "execution_count": 141,
   "id": "ae939d5c-03b8-44a3-9733-e1fc73f36b6b",
   "metadata": {},
   "outputs": [
    {
     "data": {
      "text/plain": [
       "2"
      ]
     },
     "execution_count": 141,
     "metadata": {},
     "output_type": "execute_result"
    }
   ],
   "source": [
    "len(pesos0)"
   ]
  },
  {
   "cell_type": "markdown",
   "id": "21e61aba-8392-4187-a70a-0d398db94d1b",
   "metadata": {},
   "source": [
    "Pesos das baias:"
   ]
  },
  {
   "cell_type": "code",
   "execution_count": 147,
   "id": "f1077927-5045-48b4-94ec-a2242626e1d7",
   "metadata": {},
   "outputs": [
    {
     "data": {
      "text/plain": [
       "array([-0.43433532,  0.33492514, -0.03136262,  0.22037457,  0.12674741,\n",
       "       -0.1998794 , -0.00990649, -0.10444452,  0.34278104,  0.2282489 ,\n",
       "        0.21852916,  0.11968071,  0.10565764,  0.17564505, -0.3571114 ,\n",
       "       -0.27432367], dtype=float32)"
      ]
     },
     "execution_count": 147,
     "metadata": {},
     "output_type": "execute_result"
    }
   ],
   "source": [
    "pesos0[1]"
   ]
  },
  {
   "cell_type": "code",
   "execution_count": 137,
   "id": "1394f133-a823-4f2b-ada5-66feb9e32ea2",
   "metadata": {},
   "outputs": [
    {
     "data": {
      "text/plain": [
       "16"
      ]
     },
     "execution_count": 137,
     "metadata": {},
     "output_type": "execute_result"
    }
   ],
   "source": [
    "len(pesos0[1])"
   ]
  },
  {
   "cell_type": "code",
   "execution_count": 143,
   "id": "8f1b76d4-77ef-4bac-9211-337292ac2849",
   "metadata": {},
   "outputs": [
    {
     "data": {
      "text/plain": [
       "30"
      ]
     },
     "execution_count": 143,
     "metadata": {},
     "output_type": "execute_result"
    }
   ],
   "source": [
    "len(pesos0[0])"
   ]
  },
  {
   "cell_type": "code",
   "execution_count": 145,
   "id": "196e320f-b450-4a8d-8452-ea57a66918b4",
   "metadata": {},
   "outputs": [
    {
     "data": {
      "text/plain": [
       "[array([[-3.16138491e-02, -4.59125713e-02, -3.89194079e-02,\n",
       "         -5.48292175e-02, -2.22956575e-03, -2.09464300e-02,\n",
       "         -2.06274968e-02,  2.19884321e-01,  1.20976205e-04,\n",
       "          1.98218767e-02, -5.76810502e-02,  7.59571046e-02,\n",
       "         -1.71404984e-02, -5.26507907e-02, -1.52104450e-02,\n",
       "          3.34432386e-02],\n",
       "        [-7.67915472e-02,  1.01759145e-02, -2.65832655e-02,\n",
       "          1.15012541e-01,  9.79955420e-02, -1.46450818e-01,\n",
       "          1.06238043e-02, -1.63508579e-01,  1.12075042e-02,\n",
       "         -5.42127863e-02, -3.24111544e-02,  3.12923566e-02,\n",
       "          5.68364076e-02, -1.29858395e-02, -1.98953941e-01,\n",
       "         -3.97319831e-02],\n",
       "        [ 6.10322878e-03,  2.87363306e-02, -3.17050293e-02,\n",
       "         -1.90151390e-02, -6.06200732e-02, -1.81395840e-02,\n",
       "          2.98536196e-02, -8.47982243e-02, -5.30741131e-03,\n",
       "         -1.02936402e-01, -3.79550084e-02,  3.66945821e-03,\n",
       "          1.22425314e-02,  2.01126579e-02,  1.41810656e-01,\n",
       "         -7.78489187e-02],\n",
       "        [-3.78670208e-02,  1.05090789e-03, -3.15006003e-02,\n",
       "          3.56526882e-03,  3.58904973e-02, -3.24530788e-02,\n",
       "         -3.53041366e-02, -1.17345385e-01,  5.52273951e-02,\n",
       "         -8.45308676e-02,  6.60951110e-03,  1.36540569e-02,\n",
       "          1.39588043e-02, -9.20874532e-03, -5.27438847e-03,\n",
       "         -1.49686545e-01],\n",
       "        [-2.77310740e-02, -5.79947978e-02, -3.58360037e-02,\n",
       "         -3.49346623e-02, -5.34106381e-02,  8.92886240e-03,\n",
       "         -3.83842066e-02, -9.83171258e-03,  2.88305581e-02,\n",
       "         -1.19873406e-02,  2.44917497e-02,  4.02200110e-02,\n",
       "         -1.28208905e-01, -7.07368879e-03, -7.27972889e-04,\n",
       "          3.00208498e-02],\n",
       "        [-2.63493303e-02, -3.94921564e-02, -6.19190559e-02,\n",
       "         -6.68267310e-02,  2.24125665e-02,  3.28892171e-02,\n",
       "         -1.35636632e-03, -4.26011793e-02, -6.09980244e-03,\n",
       "          6.65526539e-02, -2.64700707e-02,  1.57790165e-02,\n",
       "         -7.61076286e-02, -1.61913484e-02,  3.67920659e-02,\n",
       "         -6.94325613e-03],\n",
       "        [-2.91270614e-02,  3.50472443e-02,  1.22890845e-02,\n",
       "         -3.41743454e-02,  2.34268978e-03,  3.65753882e-02,\n",
       "         -3.39434296e-02, -3.00995976e-04,  2.17018072e-02,\n",
       "          4.26850431e-02, -6.56358898e-05, -3.49264964e-02,\n",
       "         -1.74114294e-02, -4.07098718e-02,  3.59602459e-02,\n",
       "          1.80875026e-02],\n",
       "        [-3.05728260e-02, -4.78128307e-02, -1.00494558e-02,\n",
       "         -4.85275090e-02, -5.68891503e-02, -6.67181015e-02,\n",
       "         -1.93125084e-02,  1.63043410e-01,  5.96097037e-02,\n",
       "         -3.89756709e-02, -5.63389361e-02,  6.38627959e-03,\n",
       "         -8.31830353e-02, -1.56108579e-02,  2.75520515e-02,\n",
       "          1.33287698e-01],\n",
       "        [-5.81645686e-03, -6.85912296e-02, -2.70580538e-02,\n",
       "          2.69540306e-02,  7.16879442e-02,  2.76973620e-02,\n",
       "          3.67445219e-03, -3.62199932e-01,  1.31708622e-01,\n",
       "         -1.54367369e-02,  5.22184186e-04, -4.46222015e-02,\n",
       "          4.85940874e-02, -4.12784554e-02, -7.79085830e-02,\n",
       "         -1.97823629e-01],\n",
       "        [-1.58230290e-02, -2.96534076e-02,  3.21778320e-02,\n",
       "         -9.88867357e-02, -9.38904285e-02,  4.01912220e-02,\n",
       "         -1.09283915e-02, -2.06684217e-01,  3.00873164e-02,\n",
       "         -7.05723614e-02, -1.47848995e-02,  2.95916833e-02,\n",
       "         -1.41757324e-01, -1.43523226e-02, -1.73853673e-02,\n",
       "          1.79037303e-01],\n",
       "        [-4.91753332e-02,  3.51401418e-02, -4.78534177e-02,\n",
       "          2.95136739e-02, -2.74672117e-02, -1.27433883e-02,\n",
       "         -1.42194573e-02, -1.73774183e-01,  6.95748180e-02,\n",
       "         -5.05056679e-02, -3.52359340e-02,  3.83110121e-02,\n",
       "         -5.31956702e-02, -4.25910316e-02, -2.07268689e-02,\n",
       "          2.95972265e-02],\n",
       "        [-1.33027807e-02, -5.16859405e-02,  4.91245426e-02,\n",
       "         -2.37740681e-01, -3.76810059e-02, -5.41392574e-03,\n",
       "         -7.02959439e-03, -1.78890750e-01, -6.02488481e-02,\n",
       "         -9.49043334e-02, -5.42414971e-02,  2.70281676e-02,\n",
       "         -1.66698426e-01,  4.20277417e-02, -5.66071048e-02,\n",
       "          5.78169115e-02],\n",
       "        [-9.38881189e-04,  1.64881106e-02,  1.79413296e-02,\n",
       "          1.22593502e-02,  9.85067710e-02, -2.41954229e-03,\n",
       "         -4.18092646e-02, -3.60080838e-01,  1.13226153e-01,\n",
       "         -3.24186236e-02, -2.71158461e-02, -7.04384744e-02,\n",
       "         -6.24422468e-02,  2.18280312e-02, -1.22315109e-01,\n",
       "          6.50882944e-02],\n",
       "        [ 3.22008394e-02, -1.88580379e-02, -4.80519570e-02,\n",
       "         -1.60578668e-01, -3.11650056e-03,  7.82347396e-02,\n",
       "         -1.55205037e-02, -1.96397245e-01,  1.08647451e-01,\n",
       "         -3.48474793e-02,  1.09163495e-02, -5.27193304e-03,\n",
       "         -6.50487617e-02, -3.15914825e-02, -3.81685607e-02,\n",
       "          2.82918401e-02],\n",
       "        [-4.81126457e-03, -3.90305766e-04,  2.15776283e-02,\n",
       "          3.98395658e-02, -1.69653408e-02,  8.25054646e-02,\n",
       "         -4.62566279e-02,  6.31344086e-03,  4.05804031e-02,\n",
       "         -3.54824169e-03,  5.06372610e-03, -2.08105836e-02,\n",
       "         -1.44338412e-02, -9.66214575e-03, -1.96455102e-02,\n",
       "         -4.09309603e-02],\n",
       "        [-4.19060364e-02,  1.83900613e-02, -5.51811010e-02,\n",
       "         -4.55400124e-02,  4.11491329e-03,  2.18160395e-02,\n",
       "         -4.70175333e-02, -3.11374515e-01,  3.74220833e-02,\n",
       "          2.09302679e-02, -3.75272008e-03, -1.89034417e-02,\n",
       "         -3.17146294e-02, -4.65769395e-02,  6.03376189e-03,\n",
       "         -5.34710437e-02]], dtype=float32),\n",
       " array([-0.0282837 , -0.01862107, -0.0089448 ,  0.17258908,  0.30595618,\n",
       "        -0.33169803, -0.01764435, -0.20248786,  0.27961168, -0.25357592,\n",
       "        -0.00967483, -0.2994877 ,  0.12014559, -0.02874776, -0.01881081,\n",
       "         0.06310569], dtype=float32)]"
      ]
     },
     "execution_count": 145,
     "metadata": {},
     "output_type": "execute_result"
    }
   ],
   "source": [
    "pesos1 = rede_neural.layers[1].get_weights()\n",
    "pesos1"
   ]
  },
  {
   "cell_type": "markdown",
   "id": "60cacc65-d3f2-47ad-8954-7509086a8c29",
   "metadata": {},
   "source": [
    "Previsão com rede neural:"
   ]
  },
  {
   "cell_type": "markdown",
   "id": "7a805900-9c8e-4945-9e94-7c03545ebce2",
   "metadata": {},
   "source": [
    "16 neurônios da camada oculta ligados com 1 neurônio da camada de saída "
   ]
  },
  {
   "cell_type": "code",
   "execution_count": 150,
   "id": "af6c6c13-b72e-4e36-84ce-6c200dc88dce",
   "metadata": {},
   "outputs": [
    {
     "data": {
      "text/plain": [
       "[array([[ 0.01887152],\n",
       "        [-0.5192679 ],\n",
       "        [-0.21223456],\n",
       "        [-0.5014235 ],\n",
       "        [ 0.2105103 ],\n",
       "        [-0.25786224],\n",
       "        [-0.06365436],\n",
       "        [ 0.09068339],\n",
       "        [ 0.4093166 ],\n",
       "        [-0.7433038 ],\n",
       "        [-0.31067544],\n",
       "        [-0.42010337],\n",
       "        [-0.75648534],\n",
       "        [-0.20997217],\n",
       "        [ 0.10664141],\n",
       "        [ 0.19132279]], dtype=float32),\n",
       " array([0.2885902], dtype=float32)]"
      ]
     },
     "execution_count": 150,
     "metadata": {},
     "output_type": "execute_result"
    }
   ],
   "source": [
    "pesos2 = rede_neural.layers[2].get_weights()\n",
    "pesos2"
   ]
  },
  {
   "cell_type": "code",
   "execution_count": 101,
   "id": "093ec71b-96cb-4f67-9d0e-9300cc5e6f40",
   "metadata": {},
   "outputs": [
    {
     "name": "stdout",
     "output_type": "stream",
     "text": [
      "\u001b[1m5/5\u001b[0m \u001b[32m━━━━━━━━━━━━━━━━━━━━\u001b[0m\u001b[37m\u001b[0m \u001b[1m0s\u001b[0m 1ms/step \n"
     ]
    }
   ],
   "source": [
    "previsoes = rede_neural.predict(X_teste)\n",
    "previsoes = previsoes > 0.5"
   ]
  },
  {
   "cell_type": "code",
   "execution_count": 103,
   "id": "08ea423c-4da1-4f81-9ece-e5f022c6444e",
   "metadata": {},
   "outputs": [
    {
     "data": {
      "text/plain": [
       "array([[ True],\n",
       "       [False],\n",
       "       [False],\n",
       "       [False],\n",
       "       [False],\n",
       "       [False],\n",
       "       [ True],\n",
       "       [ True],\n",
       "       [ True],\n",
       "       [False],\n",
       "       [False],\n",
       "       [False],\n",
       "       [False],\n",
       "       [ True],\n",
       "       [False],\n",
       "       [ True],\n",
       "       [False],\n",
       "       [False],\n",
       "       [False],\n",
       "       [False],\n",
       "       [ True],\n",
       "       [False],\n",
       "       [False],\n",
       "       [False],\n",
       "       [ True],\n",
       "       [False],\n",
       "       [False],\n",
       "       [ True],\n",
       "       [False],\n",
       "       [ True],\n",
       "       [ True],\n",
       "       [False],\n",
       "       [ True],\n",
       "       [False],\n",
       "       [ True],\n",
       "       [ True],\n",
       "       [False],\n",
       "       [ True],\n",
       "       [ True],\n",
       "       [ True],\n",
       "       [ True],\n",
       "       [False],\n",
       "       [ True],\n",
       "       [ True],\n",
       "       [ True],\n",
       "       [False],\n",
       "       [False],\n",
       "       [False],\n",
       "       [False],\n",
       "       [False],\n",
       "       [ True],\n",
       "       [False],\n",
       "       [False],\n",
       "       [ True],\n",
       "       [ True],\n",
       "       [False],\n",
       "       [ True],\n",
       "       [False],\n",
       "       [False],\n",
       "       [False],\n",
       "       [ True],\n",
       "       [False],\n",
       "       [ True],\n",
       "       [False],\n",
       "       [ True],\n",
       "       [ True],\n",
       "       [ True],\n",
       "       [ True],\n",
       "       [False],\n",
       "       [False],\n",
       "       [ True],\n",
       "       [ True],\n",
       "       [False],\n",
       "       [ True],\n",
       "       [False],\n",
       "       [False],\n",
       "       [False],\n",
       "       [False],\n",
       "       [ True],\n",
       "       [ True],\n",
       "       [ True],\n",
       "       [ True],\n",
       "       [ True],\n",
       "       [ True],\n",
       "       [False],\n",
       "       [ True],\n",
       "       [ True],\n",
       "       [ True],\n",
       "       [False],\n",
       "       [ True],\n",
       "       [ True],\n",
       "       [ True],\n",
       "       [False],\n",
       "       [False],\n",
       "       [False],\n",
       "       [False],\n",
       "       [False],\n",
       "       [ True],\n",
       "       [False],\n",
       "       [ True],\n",
       "       [ True],\n",
       "       [ True],\n",
       "       [ True],\n",
       "       [ True],\n",
       "       [ True],\n",
       "       [False],\n",
       "       [ True],\n",
       "       [False],\n",
       "       [ True],\n",
       "       [ True],\n",
       "       [ True],\n",
       "       [ True],\n",
       "       [ True],\n",
       "       [ True],\n",
       "       [ True],\n",
       "       [ True],\n",
       "       [ True],\n",
       "       [ True],\n",
       "       [ True],\n",
       "       [False],\n",
       "       [ True],\n",
       "       [ True],\n",
       "       [ True],\n",
       "       [ True],\n",
       "       [ True],\n",
       "       [ True],\n",
       "       [False],\n",
       "       [False],\n",
       "       [False],\n",
       "       [False],\n",
       "       [False],\n",
       "       [ True],\n",
       "       [ True],\n",
       "       [ True],\n",
       "       [ True],\n",
       "       [False],\n",
       "       [False],\n",
       "       [False],\n",
       "       [ True],\n",
       "       [False],\n",
       "       [ True],\n",
       "       [ True],\n",
       "       [ True]])"
      ]
     },
     "execution_count": 103,
     "metadata": {},
     "output_type": "execute_result"
    }
   ],
   "source": [
    "previsoes"
   ]
  },
  {
   "cell_type": "code",
   "execution_count": 105,
   "id": "207c892b-0eb0-45ab-bb31-4b3ab2be913a",
   "metadata": {},
   "outputs": [],
   "source": [
    "from sklearn.metrics import accuracy_score, confusion_matrix"
   ]
  },
  {
   "cell_type": "code",
   "execution_count": 107,
   "id": "5525a0a2-3844-4a4b-b2a4-06fa5cf20d35",
   "metadata": {},
   "outputs": [
    {
     "data": {
      "text/plain": [
       "0.8601398601398601"
      ]
     },
     "execution_count": 107,
     "metadata": {},
     "output_type": "execute_result"
    }
   ],
   "source": [
    "accuracy_score(y_teste, previsoes)"
   ]
  },
  {
   "cell_type": "code",
   "execution_count": 109,
   "id": "bfd799bd-7dd6-4d66-b1ab-2710f312e2ea",
   "metadata": {},
   "outputs": [
    {
     "data": {
      "text/plain": [
       "array([[51,  7],\n",
       "       [13, 72]], dtype=int64)"
      ]
     },
     "execution_count": 109,
     "metadata": {},
     "output_type": "execute_result"
    }
   ],
   "source": [
    "confusion_matrix(y_teste, previsoes)"
   ]
  },
  {
   "cell_type": "code",
   "execution_count": 111,
   "id": "67df4451-e1d7-425c-8b2b-c2b1536e2c22",
   "metadata": {},
   "outputs": [
    {
     "data": {
      "text/plain": [
       "(128, 15)"
      ]
     },
     "execution_count": 111,
     "metadata": {},
     "output_type": "execute_result"
    }
   ],
   "source": [
    "48 + 80, 9 + 6"
   ]
  },
  {
   "cell_type": "markdown",
   "id": "31fdbffc-2186-4749-9652-1a9a0c8f8981",
   "metadata": {},
   "source": [
    "Acertou 128 registros e errou 15"
   ]
  },
  {
   "cell_type": "code",
   "execution_count": 127,
   "id": "25e490ca-b227-4ceb-83ff-ff902034b6b0",
   "metadata": {},
   "outputs": [
    {
     "name": "stdout",
     "output_type": "stream",
     "text": [
      "\u001b[1m5/5\u001b[0m \u001b[32m━━━━━━━━━━━━━━━━━━━━\u001b[0m\u001b[37m\u001b[0m \u001b[1m0s\u001b[0m 2ms/step - binary_accuracy: 0.6875 - loss: 1.1011  \n"
     ]
    },
    {
     "data": {
      "text/plain": [
       "[1.214367151260376, 0.6783216595649719]"
      ]
     },
     "execution_count": 127,
     "metadata": {},
     "output_type": "execute_result"
    }
   ],
   "source": [
    "rede_neural.evaluate(X_teste, y_teste)"
   ]
  },
  {
   "cell_type": "markdown",
   "id": "5d607432-b314-41f0-80ee-b8fb2c4d2a84",
   "metadata": {},
   "source": [
    "valor do erro, acerto "
   ]
  },
  {
   "cell_type": "code",
   "execution_count": null,
   "id": "c9ef28e2-e1ce-4d09-a248-48be2c557fe3",
   "metadata": {},
   "outputs": [],
   "source": []
  }
 ],
 "metadata": {
  "kernelspec": {
   "display_name": "Python 3 (ipykernel)",
   "language": "python",
   "name": "python3"
  },
  "language_info": {
   "codemirror_mode": {
    "name": "ipython",
    "version": 3
   },
   "file_extension": ".py",
   "mimetype": "text/x-python",
   "name": "python",
   "nbconvert_exporter": "python",
   "pygments_lexer": "ipython3",
   "version": "3.12.4"
  }
 },
 "nbformat": 4,
 "nbformat_minor": 5
}
